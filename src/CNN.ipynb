{
 "cells": [
  {
   "cell_type": "code",
   "execution_count": 12,
   "metadata": {},
   "outputs": [],
   "source": [
    "import tensorflow as tf\n",
    "from keras.models import Sequential\n",
    "from keras.layers import Dense, Conv2D, Flatten, MaxPooling2D, Dropout\n",
    "from keras.utils import to_categorical\n",
    "from imageio import imread\n",
    "from tqdm import tqdm\n",
    "import os\n",
    "import numpy as np"
   ]
  },
  {
   "cell_type": "code",
   "execution_count": 2,
   "metadata": {},
   "outputs": [],
   "source": [
    "rgb_matrix = imread('frames/train/stable/stable_1.png')\n",
    "nb_time = len(rgb_matrix)\n",
    "nb_colonnes = len(rgb_matrix[0])\n",
    "paths_train = ['frames/train/malfunction/', 'frames/train/stable/']\n",
    "paths_test = ['frames/valid/malfunction/', 'frames/valid/stable/']\n",
    "input_shape=(nb_time, nb_colonnes, 4)"
   ]
  },
  {
   "cell_type": "code",
   "execution_count": 3,
   "metadata": {},
   "outputs": [],
   "source": [
    "def read_data(paths):\n",
    "    images = []\n",
    "    y = []\n",
    "    counter = 0\n",
    "    for i in range(len(paths)):\n",
    "        files = [f for f in os.listdir(paths[i]) if f.lower().endswith(\".png\")]\n",
    "        for file in files:\n",
    "            images.append(os.path.join(paths[i], file))\n",
    "            y.append(i)\n",
    "            counter += 1\n",
    "    X  = np.empty(shape=(counter, nb_time, nb_colonnes, 4))\n",
    "    for i in tqdm(range(len(images))): \n",
    "        image = images[i]\n",
    "        rgb_matrix = imread(image)\n",
    "        X[i] = rgb_matrix\n",
    "    \n",
    "    #one-hot encode target column\n",
    "    y = to_categorical(y)\n",
    "    return X, y"
   ]
  },
  {
   "cell_type": "code",
   "execution_count": 4,
   "metadata": {
    "scrolled": true
   },
   "outputs": [
    {
     "name": "stderr",
     "output_type": "stream",
     "text": [
      "100%|██████████| 2200/2200 [00:03<00:00, 662.66it/s]\n",
      "100%|██████████| 2200/2200 [00:03<00:00, 656.73it/s]\n"
     ]
    }
   ],
   "source": [
    "X_train, y_train = read_data(paths_train)\n",
    "X_test, y_test = read_data(paths_test)"
   ]
  },
  {
   "cell_type": "code",
   "execution_count": 5,
   "metadata": {},
   "outputs": [
    {
     "data": {
      "text/plain": [
       "(2200, 2)"
      ]
     },
     "execution_count": 5,
     "metadata": {},
     "output_type": "execute_result"
    }
   ],
   "source": [
    "y_train.shape"
   ]
  },
  {
   "cell_type": "code",
   "execution_count": 6,
   "metadata": {},
   "outputs": [],
   "source": [
    "#create model\n",
    "model = Sequential()#add model layers\n",
    "model.add(Conv2D(128, kernel_size=3, activation='relu', input_shape=input_shape))\n",
    "model.add(Conv2D(64, kernel_size=3, activation='relu'))\n",
    "model.add(Flatten())\n",
    "model.add(Dense(2, activation='softmax'))"
   ]
  },
  {
   "cell_type": "code",
   "execution_count": 7,
   "metadata": {},
   "outputs": [],
   "source": [
    "#compile model using accuracy to measure model performance\n",
    "model.compile(optimizer='adam', loss='categorical_crossentropy', metrics=['accuracy'])"
   ]
  },
  {
   "cell_type": "code",
   "execution_count": 8,
   "metadata": {},
   "outputs": [
    {
     "name": "stdout",
     "output_type": "stream",
     "text": [
      "Train on 2200 samples, validate on 2200 samples\n",
      "Epoch 1/3\n",
      "2200/2200 [==============================] - 313s 142ms/step - loss: 863.5147 - accuracy: 0.5223 - val_loss: 0.6931 - val_accuracy: 0.5000\n",
      "Epoch 2/3\n",
      "2200/2200 [==============================] - 294s 134ms/step - loss: 0.6932 - accuracy: 0.5000 - val_loss: 0.6931 - val_accuracy: 0.5000\n",
      "Epoch 3/3\n",
      "2200/2200 [==============================] - 299s 136ms/step - loss: 0.6932 - accuracy: 0.4873 - val_loss: 0.6931 - val_accuracy: 0.5000\n"
     ]
    },
    {
     "data": {
      "text/plain": [
       "<keras.callbacks.callbacks.History at 0x214cd0b5cc8>"
      ]
     },
     "execution_count": 8,
     "metadata": {},
     "output_type": "execute_result"
    }
   ],
   "source": [
    "model.fit(X_train, y_train, validation_data=(X_test, y_test), epochs=3)"
   ]
  },
  {
   "cell_type": "code",
   "execution_count": 9,
   "metadata": {},
   "outputs": [
    {
     "data": {
      "text/plain": [
       "array([[0.4997961, 0.5002039],\n",
       "       [0.4997961, 0.5002039],\n",
       "       [0.4997961, 0.5002039],\n",
       "       [0.4997961, 0.5002039]], dtype=float32)"
      ]
     },
     "execution_count": 9,
     "metadata": {},
     "output_type": "execute_result"
    }
   ],
   "source": [
    "model.predict(X_test[:4])"
   ]
  },
  {
   "cell_type": "code",
   "execution_count": 10,
   "metadata": {},
   "outputs": [
    {
     "data": {
      "text/plain": [
       "array([[1., 0.],\n",
       "       [1., 0.],\n",
       "       [1., 0.],\n",
       "       [1., 0.]], dtype=float32)"
      ]
     },
     "execution_count": 10,
     "metadata": {},
     "output_type": "execute_result"
    }
   ],
   "source": [
    "y_test[:4]"
   ]
  },
  {
   "cell_type": "code",
   "execution_count": 26,
   "metadata": {},
   "outputs": [],
   "source": [
    "model2 = Sequential() \n",
    "model2.add(Conv2D(32, (2, 2), activation='relu', input_shape=input_shape)) \n",
    "model2.add(MaxPooling2D(pool_size=(2, 2))) \n",
    "  \n",
    "model2.add(Conv2D(32, (2, 2), activation='relu'))\n",
    "model2.add(MaxPooling2D(pool_size=(2, 2))) \n",
    "  \n",
    "model2.add(Conv2D(64, (2, 2), activation='relu')) \n",
    "model2.add(MaxPooling2D(pool_size=(2, 2))) \n",
    "  \n",
    "model2.add(Flatten()) \n",
    "model2.add(Dense(64)) \n",
    "model2.add(Dropout(0.5)) \n",
    "model2.add(Dense(2, activation='sigmoid'))"
   ]
  },
  {
   "cell_type": "code",
   "execution_count": 27,
   "metadata": {},
   "outputs": [],
   "source": [
    "model2.compile(optimizer='adam', loss='categorical_crossentropy', metrics=['accuracy'])"
   ]
  },
  {
   "cell_type": "code",
   "execution_count": 28,
   "metadata": {},
   "outputs": [
    {
     "name": "stdout",
     "output_type": "stream",
     "text": [
      "Train on 2200 samples, validate on 2200 samples\n",
      "Epoch 1/3\n",
      "2200/2200 [==============================] - 28s 13ms/step - loss: 1.3692 - accuracy: 0.4964 - val_loss: 0.6931 - val_accuracy: 0.5000\n",
      "Epoch 2/3\n",
      "2200/2200 [==============================] - 27s 12ms/step - loss: 0.9157 - accuracy: 0.4991 - val_loss: 0.6931 - val_accuracy: 0.5000\n",
      "Epoch 3/3\n",
      "2200/2200 [==============================] - 27s 12ms/step - loss: 0.6931 - accuracy: 0.5000 - val_loss: 0.6931 - val_accuracy: 0.5000\n"
     ]
    },
    {
     "data": {
      "text/plain": [
       "<keras.callbacks.callbacks.History at 0x214d5369d88>"
      ]
     },
     "execution_count": 28,
     "metadata": {},
     "output_type": "execute_result"
    }
   ],
   "source": [
    "model2.fit(X_train, y_train, validation_data=(X_test, y_test), epochs=3)"
   ]
  },
  {
   "cell_type": "code",
   "execution_count": null,
   "metadata": {},
   "outputs": [],
   "source": []
  }
 ],
 "metadata": {
  "kernelspec": {
   "display_name": "Python 3",
   "language": "python",
   "name": "python3"
  },
  "language_info": {
   "codemirror_mode": {
    "name": "ipython",
    "version": 3
   },
   "file_extension": ".py",
   "mimetype": "text/x-python",
   "name": "python",
   "nbconvert_exporter": "python",
   "pygments_lexer": "ipython3",
   "version": "3.7.6"
  }
 },
 "nbformat": 4,
 "nbformat_minor": 4
}
