{
 "cells": [
  {
   "cell_type": "code",
   "execution_count": 9,
   "metadata": {},
   "outputs": [
    {
     "output_type": "stream",
     "name": "stdout",
     "text": "Requirement already satisfied: opencv-python in c:\\tools\\anaconda3\\lib\\site-packages (4.2.0.34)\nRequirement already satisfied: numpy>=1.14.5 in c:\\users\\heiligeslicht\\appdata\\roaming\\python\\python37\\site-packages (from opencv-python) (1.17.4)\n"
    }
   ],
   "source": [
    "!pip install opencv-python"
   ]
  },
  {
   "cell_type": "code",
   "execution_count": 10,
   "metadata": {},
   "outputs": [],
   "source": [
    "import cv2\n",
    "import matplotlib.pyplot as plt\n",
    "import numpy as np\n",
    "import os"
   ]
  },
  {
   "cell_type": "code",
   "execution_count": 11,
   "metadata": {},
   "outputs": [],
   "source": [
    "PATH = os.path.join(os.path.abspath(\".\"), \"frames\", \"train\")"
   ]
  },
  {
   "cell_type": "code",
   "execution_count": 12,
   "metadata": {},
   "outputs": [],
   "source": [
    "stable = cv2.imread(os.path.join(PATH, \"stable\", \"stable_1.png\"))\n",
    "malfunction = cv2.imread(os.path.join(PATH, \"malfunction\", \"malfunction_1.png\"))"
   ]
  },
  {
   "cell_type": "code",
   "execution_count": 13,
   "metadata": {},
   "outputs": [],
   "source": [
    "# copy of malfunction image that'll need later.\n",
    "original = malfunction.copy()\n",
    "# we subtract the malfunction image from the stable one.\n",
    "image = cv2.absdiff(malfunction, stable)\n",
    "# we produce a kernel (a 5x5 matrix filled with value 1)\n",
    "kernel = np.ones((5,5), np.uint8)\n",
    "# we erode the image to get rid of the contours left behind from the global noise.\n",
    "image = cv2.erode(image, kernel, iterations=1)"
   ]
  },
  {
   "cell_type": "code",
   "execution_count": 14,
   "metadata": {},
   "outputs": [],
   "source": [
    "# map the image's colormap to hsv.\n",
    "image = cv2.cvtColor(image,cv2.COLOR_RGB2HSV)\n",
    "# we produce a mask by selecting non-black regions of the eroded image.\n",
    "lower_white = np.array([10,10,10])\n",
    "upper_white = np.array([255,255,255])\n",
    "mask = cv2.inRange(image, lower_white, upper_white)\n",
    "# find the contours of the mask\n",
    "cnts = cv2.findContours(mask, cv2.RETR_EXTERNAL, cv2.CHAIN_APPROX_SIMPLE)\n",
    "cnts = cnts[0] if len(cnts) == 2 else cnts[1]"
   ]
  },
  {
   "cell_type": "code",
   "execution_count": 15,
   "metadata": {},
   "outputs": [],
   "source": [
    "offset = 5\n",
    "\n",
    "def bbArea(c):\n",
    "    _,_,w,h = cv2.boundingRect(c)\n",
    "    return w*h\n",
    "\n",
    "# Since we have general noise it's best to skip over small captured\n",
    "# malfunction regions. This is a more suitable solution than trying\n",
    "# to erode the image for 2 iterations since it makes us lose parts of\n",
    "# the targeted region. An idea is to use percentiles.\n",
    "percentile = np.percentile([bbArea(c) for c in cnts], 60)\n",
    "\n",
    "for c in cnts:\n",
    "    x,y,w,h = cv2.boundingRect(c)\n",
    "    if w * h > percentile:\n",
    "        cv2.rectangle(original, (x - offset, y - offset), (x + w + offset, y + h + offset), (255,0,0), 2)\n",
    "\n",
    "cv2.imshow(\"Stable\", stable)\n",
    "cv2.imshow(\"Malfunction\", malfunction)\n",
    "cv2.imshow(\"Mask\", mask)\n",
    "cv2.imshow(\"Malfunction Detection\", original)"
   ]
  },
  {
   "cell_type": "code",
   "execution_count": 16,
   "metadata": {},
   "outputs": [],
   "source": [
    "cv2.waitKey(0)\n",
    "cv2.destroyAllWindows()"
   ]
  }
 ],
 "metadata": {
  "language_info": {
   "codemirror_mode": {
    "name": "ipython",
    "version": 3
   },
   "file_extension": ".py",
   "mimetype": "text/x-python",
   "name": "python",
   "nbconvert_exporter": "python",
   "pygments_lexer": "ipython3",
   "version": "3.7.6-final"
  },
  "orig_nbformat": 2,
  "kernelspec": {
   "name": "python3",
   "display_name": "Python 3"
  }
 },
 "nbformat": 4,
 "nbformat_minor": 2
}