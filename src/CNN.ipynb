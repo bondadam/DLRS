{
 "cells": [
  {
   "cell_type": "code",
   "execution_count": 1,
   "metadata": {},
   "outputs": [
    {
     "name": "stderr",
     "output_type": "stream",
     "text": [
      "Using TensorFlow backend.\n"
     ]
    }
   ],
   "source": [
    "import tensorflow as tf\n",
    "from keras.models import Sequential\n",
    "from keras.layers import Dense, Conv2D, Flatten\n",
    "from keras.utils import to_categorical\n",
    "from imageio import imread\n",
    "from tqdm import tqdm\n",
    "import os\n",
    "import numpy as np"
   ]
  },
  {
   "cell_type": "code",
   "execution_count": 2,
   "metadata": {},
   "outputs": [],
   "source": [
    "rgb_matrix = imread('frames/train/stable/stable_1.png')\n",
    "nb_time = len(rgb_matrix)\n",
    "nb_colonnes = len(rgb_matrix[0])\n",
    "paths_train = ['frames/train/malfunction/', 'frames/train/stable/']\n",
    "paths_test = ['frames/valid/malfunction/', 'frames/valid/stable/']"
   ]
  },
  {
   "cell_type": "code",
   "execution_count": 3,
   "metadata": {},
   "outputs": [],
   "source": [
    "def read_data(paths):\n",
    "    images = []\n",
    "    y = []\n",
    "    counter = 0\n",
    "    for i in range(len(paths)):\n",
    "        files = [f for f in os.listdir(paths[i]) if f.lower().endswith(\".png\")]\n",
    "        for file in files:\n",
    "            images.append(os.path.join(paths[i], file))\n",
    "            y.append(i)\n",
    "            counter += 1\n",
    "    X  = np.empty(shape=(counter, nb_time, nb_colonnes, 4))\n",
    "    for i in tqdm(range(len(images))): \n",
    "        image = images[i]\n",
    "        rgb_matrix = imread(image)\n",
    "        X[i] = rgb_matrix\n",
    "    \n",
    "    #one-hot encode target column\n",
    "    y = to_categorical(y)\n",
    "    return X, y"
   ]
  },
  {
   "cell_type": "code",
   "execution_count": 4,
   "metadata": {
    "scrolled": true
   },
   "outputs": [
    {
     "name": "stderr",
     "output_type": "stream",
     "text": [
      "100%|██████████| 12/12 [00:00<00:00, 124.78it/s]\n",
      "100%|██████████| 1000/1000 [00:09<00:00, 107.74it/s]\n"
     ]
    }
   ],
   "source": [
    "X_train, y_train = read_data(paths_train)\n",
    "X_test, y_test = read_data(paths_test)"
   ]
  },
  {
   "cell_type": "code",
   "execution_count": 5,
   "metadata": {},
   "outputs": [
    {
     "data": {
      "text/plain": [
       "(12, 2)"
      ]
     },
     "execution_count": 5,
     "metadata": {},
     "output_type": "execute_result"
    }
   ],
   "source": [
    "y_train.shape"
   ]
  },
  {
   "cell_type": "code",
   "execution_count": 6,
   "metadata": {},
   "outputs": [],
   "source": [
    "#create model\n",
    "model = Sequential()#add model layers\n",
    "model.add(Conv2D(128, kernel_size=3, activation='relu', input_shape=(nb_time, nb_colonnes, 4)))\n",
    "model.add(Conv2D(64, kernel_size=3, activation='relu'))\n",
    "model.add(Flatten())\n",
    "model.add(Dense(2, activation='softmax'))"
   ]
  },
  {
   "cell_type": "code",
   "execution_count": 7,
   "metadata": {},
   "outputs": [],
   "source": [
    "#compile model using accuracy to measure model performance\n",
    "model.compile(optimizer='adam', loss='categorical_crossentropy', metrics=['accuracy'])"
   ]
  },
  {
   "cell_type": "code",
   "execution_count": null,
   "metadata": {},
   "outputs": [
    {
     "name": "stdout",
     "output_type": "stream",
     "text": [
      "Train on 12 samples, validate on 1000 samples\n",
      "Epoch 1/3\n"
     ]
    }
   ],
   "source": [
    "model.fit(X_train, y_train, validation_data=(X_test, y_test), epochs=3)"
   ]
  },
  {
   "cell_type": "code",
   "execution_count": null,
   "metadata": {},
   "outputs": [],
   "source": [
    "model.predict(X_test[:4])"
   ]
  },
  {
   "cell_type": "code",
   "execution_count": null,
   "metadata": {},
   "outputs": [],
   "source": [
    "y_test[:4]"
   ]
  }
 ],
 "metadata": {
  "kernelspec": {
   "display_name": "Python 3",
   "language": "python",
   "name": "python3"
  },
  "language_info": {
   "codemirror_mode": {
    "name": "ipython",
    "version": 3
   },
   "file_extension": ".py",
   "mimetype": "text/x-python",
   "name": "python",
   "nbconvert_exporter": "python",
   "pygments_lexer": "ipython3",
   "version": "3.8.0"
  }
 },
 "nbformat": 4,
 "nbformat_minor": 4
}
