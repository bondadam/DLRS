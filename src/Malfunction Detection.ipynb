{
 "cells": [
  {
   "cell_type": "code",
   "execution_count": 17,
   "metadata": {},
   "outputs": [
    {
     "output_type": "stream",
     "name": "stdout",
     "text": "Requirement already satisfied: opencv-python in c:\\tools\\anaconda3\\lib\\site-packages (4.2.0.34)\nRequirement already satisfied: numpy>=1.14.5 in c:\\users\\heiligeslicht\\appdata\\roaming\\python\\python37\\site-packages (from opencv-python) (1.17.4)\n"
    }
   ],
   "source": [
    "!pip install opencv-python"
   ]
  },
  {
   "cell_type": "code",
   "execution_count": 18,
   "metadata": {},
   "outputs": [],
   "source": [
    "import cv2\n",
    "import matplotlib.pyplot as plt\n",
    "import numpy as np\n",
    "import pandas as pd\n",
    "import os\n",
    "import tensorflow as tf\n",
    "from shutil import rmtree"
   ]
  },
  {
   "cell_type": "code",
   "execution_count": 19,
   "metadata": {},
   "outputs": [],
   "source": [
    "OTHER = os.path.join(os.path.abspath(\".\"), \"frames\")\n",
    "PATH = os.path.join(os.path.abspath(\".\"), \"frames\", \"object_detection\")\n",
    "MODEL = os.path.join(os.path.abspath(\".\"), \"malfunction_detection_model\")\n",
    "OBJECTS = os.path.join(MODEL, \"images\")\n",
    "DATA = os.path.join(MODEL, \"data\")\n",
    "CSV_PATH = os.path.join(DATA, \"malfunction_labels.csv\")\n",
    "TRAIN_CSV_PATH = os.path.join(DATA, \"train_labels.csv\")\n",
    "TEST_CSV_PATH = os.path.join(DATA, \"test_labels.csv\")"
   ]
  },
  {
   "cell_type": "code",
   "execution_count": 20,
   "metadata": {},
   "outputs": [],
   "source": [
    "if os.path.exists(OBJECTS):\n",
    "    rmtree(OBJECTS)\n",
    "os.makedirs(OBJECTS)"
   ]
  },
  {
   "cell_type": "code",
   "execution_count": 21,
   "metadata": {},
   "outputs": [],
   "source": [
    "if os.path.exists(DATA):\n",
    "    rmtree(DATA)\n",
    "os.makedirs(DATA)"
   ]
  },
  {
   "cell_type": "code",
   "execution_count": 22,
   "metadata": {},
   "outputs": [],
   "source": [
    "def isolate_malfunctions(stable_image_path, malfunction_image_path, csv_file):\n",
    "    global COUNTER, OBJECTS\n",
    "    stable = cv2.imread(stable_image_path)\n",
    "    malfunction = cv2.imread(malfunction_image_path)\n",
    "    original = malfunction.copy()\n",
    "    filename = os.path.split(malfunction_image_path)[-1]\n",
    "    # we subtract the malfunction image from the stable one.\n",
    "    image = cv2.absdiff(malfunction, stable)\n",
    "    # we produce a kernel (a 5x5 matrix filled with value 1)\n",
    "    kernel = np.ones((5,5), np.uint8)\n",
    "    # we erode the image to get rid of the contours left behind from the global noise.\n",
    "    image = cv2.erode(image, kernel, iterations=2)\n",
    "    # map the image's colormap to hsv.\n",
    "    image = cv2.cvtColor(image,cv2.COLOR_RGB2HSV)\n",
    "    # we produce a mask by selecting non-black regions of the eroded image.\n",
    "    lower_white = np.array([10,10,10])\n",
    "    upper_white = np.array([255,255,255])\n",
    "    mask = cv2.inRange(image, lower_white, upper_white)\n",
    "    # find the contours of the mask\n",
    "    cnts = cv2.findContours(mask, cv2.RETR_EXTERNAL, cv2.CHAIN_APPROX_SIMPLE)\n",
    "    cnts = cnts[0] if len(cnts) == 2 else cnts[1]\n",
    "    \n",
    "\n",
    "    def bbArea(c):\n",
    "        _,_,w,h = cv2.boundingRect(c)\n",
    "        return w*h\n",
    "\n",
    "    # Since we have general noise it's best to skip over small captured\n",
    "    # malfunction regions. This is a more suitable solution than trying\n",
    "    # to erode the image for 2 iterations since it makes us lose parts of\n",
    "    # the targeted region. An idea is to use percentiles.\n",
    "    mean = np.array([bbArea(c) for c in cnts]).mean()\n",
    "    offset = 20\n",
    "    wrote_once = False\n",
    "    for c in cnts:\n",
    "        x,y,w,h = cv2.boundingRect(c)\n",
    "        if w * h > mean:\n",
    "            if not wrote_once:\n",
    "                cv2.imwrite(os.path.join(OBJECTS, filename), original)\n",
    "                wrote_once = True\n",
    "            cv2.rectangle(malfunction, (x - offset, y - offset), (x + w + offset, y + h + offset), (255,0,0), 2)\n",
    "            print(\",\".join(map(str, [filename, original.shape[0], original.shape[1], \"malfunction\", x - offset, y - offset, x + w + offset, y + h + offset])), file=csv_file)\n",
    "            plt.imshow(malfunction)"
   ]
  },
  {
   "cell_type": "code",
   "execution_count": 23,
   "metadata": {},
   "outputs": [],
   "source": [
    "import glob\n",
    "import io\n",
    "\n",
    "from PIL import Image\n",
    "from object_detection.utils import dataset_util\n",
    "from collections import namedtuple, OrderedDict"
   ]
  },
  {
   "cell_type": "code",
   "execution_count": 24,
   "metadata": {},
   "outputs": [],
   "source": [
    "stable_dir = glob.glob(os.path.join(PATH, \"stable\", \"*.png\"))\n",
    "malfunction_dir = glob.glob(os.path.join(PATH, \"malfunction\",\"*.png\"))\n",
    "\n",
    "stable_prefix = \"stable_\" \n",
    "stable_dir.sort(key=lambda x: int(x[x.index(stable_prefix) + len(stable_prefix): -4]))\n",
    "\n",
    "malfunction_prefix = \"malfunction_\" \n",
    "malfunction_dir.sort(key=lambda x: int(x[x.index(malfunction_prefix) + len(malfunction_prefix): -4]))"
   ]
  },
  {
   "cell_type": "code",
   "execution_count": 25,
   "metadata": {
    "tags": [
     "outputPrepend",
     "outputPrepend",
     "outputPrepend",
     "outputPrepend",
     "outputPrepend",
     "outputPrepend",
     "outputPrepend",
     "outputPrepend",
     "outputPrepend",
     "outputPrepend",
     "outputPrepend",
     "outputPrepend",
     "outputPrepend",
     "outputPrepend",
     "outputPrepend"
    ]
   },
   "outputs": [
    {
     "output_type": "display_data",
     "data": {
      "text/plain": "<Figure size 432x288 with 1 Axes>",
      "image/svg+xml": "<?xml version=\"1.0\" encoding=\"utf-8\" standalone=\"no\"?>\r\n<!DOCTYPE svg PUBLIC \"-//W3C//DTD SVG 1.1//EN\"\r\n  \"http://www.w3.org/Graphics/SVG/1.1/DTD/svg11.dtd\">\r\n<!-- Created with matplotlib (https://matplotlib.org/) -->\r\n<svg height=\"252.090844pt\" version=\"1.1\" viewBox=\"0 0 330.4075 252.090844\" width=\"330.4075pt\" xmlns=\"http://www.w3.org/2000/svg\" xmlns:xlink=\"http://www.w3.org/1999/xlink\">\r\n <defs>\r\n  <style type=\"text/css\">\r\n*{stroke-linecap:butt;stroke-linejoin:round;}\r\n  </style>\r\n </defs>\r\n <g id=\"figure_1\">\r\n  <g id=\"patch_1\">\r\n   <path d=\"M 0 252.090844 \r\nL 330.4075 252.090844 \r\nL 330.4075 0 \r\nL 0 0 \r\nz\r\n\" style=\"fill:none;\"/>\r\n  </g>\r\n  <g id=\"axes_1\">\r\n   <g id=\"patch_2\">\r\n    <path d=\"M 33.2875 228.212719 \r\nL 323.2075 228.212719 \r\nL 323.2075 10.772719 \r\nL 33.2875 10.772719 \r\nz\r\n\" style=\"fill:#ffffff;\"/>\r\n   </g>\r\n   <g clip-path=\"url(#p4d26699f77)\">\r\n    <image height=\"218\" id=\"image0f906c36e9\" transform=\"scale(1 -1)translate(0 -218)\" width=\"290\" x=\"33\" xlink:href=\"data:image/png;base64,\r\niVBORw0KGgoAAAANSUhEUgAAASIAAADaCAYAAAACCE92AAAABHNCSVQICAgIfAhkiAAAEY9JREFUeJzt3UmMFNUfB/DfLOygzAyrbAOEdWCGnQEdGJYZZkBZxAQMYyQSJRiMCcZ/vHEwEWOMiXFJVOJNw8kEjXIQggdMQIknOZgYBgNGg4CYKAIDU/9DTdvd1dVd23vv95bvJ+nAVFdX/bq76tu1vHpV5XmeRwlVVSV9BQC44soVokmTkr2mWk4pAADxIYgAgB2CCADYIYgAgB2CCADYIYgAgB2CCADYIYgAgB2CCADYIYgAgB2CCADYIYgAgB2CCADYIYgAgB2CCADYIYgAgB2CCADYIYgAgB2CCADYIYgAgB2CCADYIYgAgB2CCADYIYgAgB2CCADYIYgAgB2CCADYIYgAgB2CCADYIYgAgB2CCADYIYgAgB2CCADYIYgAgB2CCADYIYgMMWYMdwUA8dy4kfw1CCJDNDdzVwDgq66QGuPHEy1cmGKa6cvRV1UVdwXitbRwVwDgr1v9/eHP1dYS/f57uukqC6KLF/1/ZYVEQwPR5ctEnuc/bNPSYmfAgr4aG0uH3b9PdOBA+Ph9fennJT2I2tv9YJg+3f/300/Dx9u2Ld30c8Fz7RrR5Mn+sKFD001LZ5s22RmwkExNjb8czJ+ffhpxf9B6e/151dX5f3ue/9r33y/eQq+uFrBseinkV3/Pq6oq/rvwMXly+OsXLSqdhud53u7dxcM9z/NGjCg/j9u3w6f/0UflazL1Efzc8XDzcedOfjk/erTyuMH1Zt688svR9u3Ffx85UrxOXbkSngOTJsXLjCiU9AVXr/oFzJrled9+63mjR5e+qepqz7t+vfJ0Xn01P36hnh5/2LVrBUWGfKh//BHxxjRYaEQ+bHxPeCR7jBtXupx//XX58Xt6PO/gQc9bv97zNm7Mv2b//uLxDhzwh9fW5tezOI4ejTdeHDFnWdkvv/hv4K23kr2ut9fz+vujx+vv9z+cqirP27LF8y5din4N90Ij+mHje8Ij+TIQ5sIF//nCH+vPPou/fgTXs6eeil6/RKvw9sz2wguVdxtNeuR2XbnrwIPvMXFi5eX99m3P27PHH3fChOj14+OP/XFPnSoefu5cuvUtqyrP87yMh5m0ZctZppkziX7+2Z73A8nJWEuPH09/kkg0q4OottY/3aiSR+alRRVZuwhYw9611Gdlg8acVavUzs/EECIyt25XtLVxVyCf1UG0ZAnPfKvIE/q41OsfKvjfy2Kniy0hM5w+zV2BfNYHkQ3HVXItXHGZh5tqargrkM/qINqyxa59685O7gpAtRdf5K5ADasPVhOp3SLKHWsRvctT+A2Jfj+yagYx7F4786zeIgIAMyCIAIAdgkhztbXcFQDIZ30QmX7WLE1vdwCmsT6ITD/lvWxZ8d+TJvHUAeoNG8ZdgTrWBxFXo0ZROjqK/zY9WCG+4I+QzZwIIpN3z7q6iv9Gl7HuePpp7grUsb4d0aVLfje1KshokxP8dk6eLN1KyjR9tCPSlt1rZjHrg4hI3RaEiiD69dd839xCpo8g0pb9a2YegkggFUFEJPb9IIj0Zf+amWf9MSIAE7l2HBBBBKChGTO4K1ALQaQxF7p/gHCvvcZdgVpOHCOaNcvv81k20cdbxo4lunq1dDiOEdmvv9+t3TMntohMbdQYdstfcINLIUSEINJac3P48IkT1dYBIBuCSGMPPxw+fN48tXUAyOZEEG3cyF1BOnv2hA9fs8a9TXeXzJ/PXYF6TgSRqSvt4MHhw+fNc6uxm2t27OCuQD0ngsg22DWz2zPPcFegnhOn74mIqqvlb0WIPhVert6+vvJbS4nngdP32nFjjSzmzBaRTV/uoEHcFQCI5UwQAYC+EEQAwA5BpKlRo7grAA6u3rUFQaSpKVO4KwAOU6dyV8DDmSCaNYu7gmSiGrUNGaKmDlBr5UruCng4E0R795rVsHHXrsrPt7WpqQPUOnyYuwIezgRRe7tZp/DXr6/8vIuXAbhgzhzuCng4E0StrdwVJFNfX/l5tK4GmzgTRNWWvVMEEdjEstXTHQgisIkz15oRyT9YLfK6rTjfioj3g2vN9FFTQ3TvHncVPJzaInL1QCCYweW2Y04F0bp13BWIZVJzBIjmahsiIseCqL2du4J40FjRTVu3clfAx6ljRFevEo0fL2/6oo63NDYS9fZGj4djRHa5fdvdHyGntojGjeOuIJ5HHuGuADi4GkJEjgWRKVav5q4AQC2nds2I5B7gFbWbc/ky0eTJ0eNh18wubq2JxZwLohEjiG7dkjNtUSt13G8EQWQXt9bEYs7tmtl2Ch/ABs4F0d693BWIM306dwUQ5PJWTRbOdUwZ1b2GSdra4p3md1Vut1OpKsqwk+tuijm3RRTVvYZJ2trQuhrs4NwWkU3a2rArEEXlQfjcd5Hmx4Fl600jzp01I5K3FaH6rBlR9vdi81kzj6qUva/6eqLr1/3/pw4i91bF/zi3a0ZEtHw5dwVgm85O7grM5mQQdXfj2AqItWkTdwVmczKIurr03QoePJi7Akhj+3buCszmZBDp3JH+tGnJxp87V04dkMzo0dwVmM3JINJ5t2zp0mTj4/5m+hk6lLsC8zgZRDp7+eVk4/f0yKkD0tuwgbsC8zgbRA88wF1BuCVLko2/apWcOiC9hQv13urWkbNB1NXFXYEYgwZxVwDB0FmwQN+TIbpyNoi6u7krAFuMGVP898KFPHWYDEEEkFHwZpfz5/PUYTJng0hmJ/qq1dVxV+C2Z58t/rsWV3Am5mwQ6WjYsHSvwyl8Xtu2cVdgPgSRRmbOTPc6dAfCa9Qo7grMhyDSSNo7faI7EDAdgkgjW7akex16EwDTOdkfUY7o3Zmsfftk+SbSvhf0RyRgPiGzaG0lOncuwTTQH5G7amq4KwDTlfsBWLBAbR2mczqIsLBAVmPHhg/HZR7JOB1Ezc3cFYDpmprChy9c6PSeVmJOB5FNv1o4hcxj7drw4bjMIxmng6ijQ59frbSNGXNwB1se5bptKbfLBuGcDiKdjhE1NmZ7fVOTPVt3Jhk+nLsCOzgdRDpdE5S0H6IgdD0BJnM6iHSS9VbY5Q6aApjA6QaNRGJ3Z7I0Drx2jaihIf28794lGjIk+evQoDHjPCpMPsmyhQaNoIUsIUSE2xDpqL2duwJzIIgAJGltxQmEuJwPojlzuCsAW7W2Or23lYjzQYTW1ZBWdcTagzusxIcgasbmM6QTdZfdcePU1GED54No40b+zWdR/Wej03a13niDuwJ7OB9EOuyaBe8CkRbaEqmVtiO7IJ0a1nJxPoh0aKK/erWY6SCIzISbZCKItPDYY2KmgyDSz9Sp0eNkveDZBggiDaTtND9Ip4t4wRfnzNnIkfLr0B2CSAOiztpFncUBceKG/hNPRI8TvGW1ixBEACns3BlvvDhbRKNHZ6vFBggiIpo2jbsCMM2hQ/HGmzQpepz6+my12ABBRHqcwhcFjTPVeOABcdPCrhmCiIjsal3N3TgTSkUtW2iBjSAiIr36rgb7RC1bs2erqUNnCCKya9cM5Mvad1RQnONItkMQEVFdHXcFYBLRHZ5NmSJ2eiZCEAEk9PjjYqeHH0L0Wf0fEQer0/T/PGiQ39+0KEnfB/qsTu7WrWSXZUR9J/fvE1XXoM9qYNTSwl0BJJX02rCobl6iOlhzAT4CZsuWiZ1enIssQa3WVu4K9IcgGpD1TqtpiT7wiQtf9YNO9KMhiAYsXswz344OsdNracFCr5vmZqcP/8SCIBqwaBHPCiz6OqOWFiz0MqXpxAxbqdEQRAO6u+1YgTs7uSuwW5pjejhuFw1BNMCWs1dokyLX2rXcFdgJQTQAt2yGOOJ0dAbJoUFjgazHiNI0DpTx6Sd5H2jQmHCaKSdX6TvxvIERHF4VsUUEAOwQRIxw1bU7cOyuMgRRAdXHiWbNkjNddH2rH5zCrwxBVEB1o8alS+VM15YzgDZBEFWGICqgOog2bJAzXZu6vtVJln6qm5rwnVSCICqwaJHa+a1ZI2e6aF0tR5b7xi1YEP6dIJx8CKIC3d1q5zdihJzpbtokZ7qu27cv/Wvb2sKHDx2afpo2QTuigCy/UEnb5Mj85OO+D7Qjiu/PP7PdDDHsO6mrI7pxg9COiLsAAFPIuCOrrK1i0yCIABiJvFGjyRBEAIwQRD4EEZMhQ7grAB2gdb0PQcRk4kS5058xQ+70IbnJk0uHib5Zo6kQREyytEmJA62r9dPUVDos6g4frkAQMVmxQu700Xe1fsIu80AQ+RBETPbvlzv9zk6nm6Voad260mHz5qmvQ0cIIiYPPSR3+s3NcqfvGhE3QQzbIgo7buQiBFGALb9QaCgnlogfjrDuWXCw2ocgCuC6vxnobflyOdOV0VrbRAiigHIXJ4Lbtm6VM92aGjnTNQ0ueg3wvPTHA5JcQKriU49z1gwXvcaclqCPJ/id/DddXPQKhXDKG0A9BBGD4cPVzEdWn9gAoiGIQqS5v3kSU6bInX4OWlfHV1+vZj6zZ6uZj2kQRCFkHZjMUdXGB62r46mrI+rpUfNZhV3mAThYHer8+XSna+Me+D17lmjlyjSVJfPdd9HzwcFqoh9+8LdURo4Mf76xkai3V1xd9++HnC1z/GA1gqiMNL+OcVfq/n41v763bxMNG1Z5HARRfv0v953s2kV07JjAwsI4HkTYNWOgancJHbOLsX07dwX2wxZRGTK3iFR+4lHvA1tE+e9j5Eiif/4pff7uXfknMLBFBKHQhad79uwJD27pIQQIonJeeQVnnFxQ2Kbr9ded3ihhhSAqY8cOOQtl1MFjUKunJ///ujq+OlyHY0QVJN0iinO8pamJ6Mcfs1SVzNy5RD/9VP55148RBY//hH3nStYQHCMClWR3ERuE1tWVBY//DB5c/De66VADQaTYli1q54eeGpPZvbv4b3x+amDXrIL164lOn44/fpzdHNWf9vffV94Kc33XLOz7GD2a6K+//P8fPy7/kh8icn7XDEFUwYkTRJs3xx9fxyC6c6dyw0aXg2jCBKLffgt/Lnes6N49RZ2XOR5E2DWroLubu4LscEfZ8tavL//c/Pn+v+hBUQ0EETjr+efLP3fhgn9LJlADu2YRkpzC13HXjMjv+rbcfF3eNdNqyceuGVRiw504HV6+wRAIoghHjnBXAGA/7JrFEHf3TNdds0r1u7prVlPjnxHTBnbNANxjyx19bYEgimHZMu4KQLQdO7grgELYNYvh33/j3QIoajdn+nSiixdFVhYPds1CntPt7WLXDKKI6rpjyRIx0wGwDYIoph07sneUxtVALtdKGEBXCKKYPvkk+5bzzp1iakkKV5CD7hBEMSXZPfvii/DhDQ1iakkqyY0Wv/mGqLa2dPwRI8R0nbtyJdE772SfThajRvHOH0ohiBI4ezbeeI8+SrRxY/Gwxkbh5cTW2Rm9NXfqlD/O2rVEfX3F47/7LtHffxPNmZNsvtXVpeF19izRwYPlX9PQIObU+uLF/r+F30Ouln37sk8fBPMgEX8VLX28/XbBkwOqqvw/u7r46vU8z7t7N7zmJ5/0SmrOuXnTHzxsWPHwcu+/8HHiRPj448blhx87Fv7anAcfjDev4KO2NlDsgDt3PO/QIX/QzZvZPk8pHF8V3X73KSxenF/oz58PPBlYm4g87/BhpeWVdfFi8Qr74YcDT5QJotxTQblwJfK81tbSIPj88+Lxz5zJPxcMgEpBFJxX3EfkG9CVSbVKgHZECV254u9m9fWFHDPJDdD4Iz18mOi994iuXRsYkLHme/fy/T5/8AHRc8+VjrNihd9TZHAWwc9v82aiL7+MnueZM0RtbaXD79/3dweLZqDxd1HEpFolQBCJZEAQlRBQc18f0VdfEW3bVn6cmho/KILOnfOPS925k6yEjg6ikyfzf7/0EtGbbwZGMmnlNqlWCRBEIjkaRNoyaeU2qVYJcNYMANghiACAHYIIANjVchcAIJWI5uAgHYJIBiz8enD44K9psGsmkqkLvql1gzWwRSQaVmqAxLBFBADsEEQAwO7/2z5MyxSguOMAAAAASUVORK5CYII=\" y=\"-10.090844\"/>\r\n   </g>\r\n   <g id=\"matplotlib.axis_1\">\r\n    <g id=\"xtick_1\">\r\n     <g id=\"line2d_1\">\r\n      <defs>\r\n       <path d=\"M 0 0 \r\nL 0 3.5 \r\n\" id=\"m18a3b1e173\" style=\"stroke:#000000;stroke-width:0.8;\"/>\r\n      </defs>\r\n      <g>\r\n       <use style=\"stroke:#000000;stroke-width:0.8;\" x=\"33.514\" xlink:href=\"#m18a3b1e173\" y=\"228.212719\"/>\r\n      </g>\r\n     </g>\r\n     <g id=\"text_1\">\r\n      <!-- 0 -->\r\n      <defs>\r\n       <path d=\"M 31.78125 66.40625 \r\nQ 24.171875 66.40625 20.328125 58.90625 \r\nQ 16.5 51.421875 16.5 36.375 \r\nQ 16.5 21.390625 20.328125 13.890625 \r\nQ 24.171875 6.390625 31.78125 6.390625 \r\nQ 39.453125 6.390625 43.28125 13.890625 \r\nQ 47.125 21.390625 47.125 36.375 \r\nQ 47.125 51.421875 43.28125 58.90625 \r\nQ 39.453125 66.40625 31.78125 66.40625 \r\nz\r\nM 31.78125 74.21875 \r\nQ 44.046875 74.21875 50.515625 64.515625 \r\nQ 56.984375 54.828125 56.984375 36.375 \r\nQ 56.984375 17.96875 50.515625 8.265625 \r\nQ 44.046875 -1.421875 31.78125 -1.421875 \r\nQ 19.53125 -1.421875 13.0625 8.265625 \r\nQ 6.59375 17.96875 6.59375 36.375 \r\nQ 6.59375 54.828125 13.0625 64.515625 \r\nQ 19.53125 74.21875 31.78125 74.21875 \r\nz\r\n\" id=\"DejaVuSans-48\"/>\r\n      </defs>\r\n      <g transform=\"translate(30.33275 242.811156)scale(0.1 -0.1)\">\r\n       <use xlink:href=\"#DejaVuSans-48\"/>\r\n      </g>\r\n     </g>\r\n    </g>\r\n    <g id=\"xtick_2\">\r\n     <g id=\"line2d_2\">\r\n      <g>\r\n       <use style=\"stroke:#000000;stroke-width:0.8;\" x=\"78.814\" xlink:href=\"#m18a3b1e173\" y=\"228.212719\"/>\r\n      </g>\r\n     </g>\r\n     <g id=\"text_2\">\r\n      <!-- 100 -->\r\n      <defs>\r\n       <path d=\"M 12.40625 8.296875 \r\nL 28.515625 8.296875 \r\nL 28.515625 63.921875 \r\nL 10.984375 60.40625 \r\nL 10.984375 69.390625 \r\nL 28.421875 72.90625 \r\nL 38.28125 72.90625 \r\nL 38.28125 8.296875 \r\nL 54.390625 8.296875 \r\nL 54.390625 0 \r\nL 12.40625 0 \r\nz\r\n\" id=\"DejaVuSans-49\"/>\r\n      </defs>\r\n      <g transform=\"translate(69.27025 242.811156)scale(0.1 -0.1)\">\r\n       <use xlink:href=\"#DejaVuSans-49\"/>\r\n       <use x=\"63.623047\" xlink:href=\"#DejaVuSans-48\"/>\r\n       <use x=\"127.246094\" xlink:href=\"#DejaVuSans-48\"/>\r\n      </g>\r\n     </g>\r\n    </g>\r\n    <g id=\"xtick_3\">\r\n     <g id=\"line2d_3\">\r\n      <g>\r\n       <use style=\"stroke:#000000;stroke-width:0.8;\" x=\"124.114\" xlink:href=\"#m18a3b1e173\" y=\"228.212719\"/>\r\n      </g>\r\n     </g>\r\n     <g id=\"text_3\">\r\n      <!-- 200 -->\r\n      <defs>\r\n       <path d=\"M 19.1875 8.296875 \r\nL 53.609375 8.296875 \r\nL 53.609375 0 \r\nL 7.328125 0 \r\nL 7.328125 8.296875 \r\nQ 12.9375 14.109375 22.625 23.890625 \r\nQ 32.328125 33.6875 34.8125 36.53125 \r\nQ 39.546875 41.84375 41.421875 45.53125 \r\nQ 43.3125 49.21875 43.3125 52.78125 \r\nQ 43.3125 58.59375 39.234375 62.25 \r\nQ 35.15625 65.921875 28.609375 65.921875 \r\nQ 23.96875 65.921875 18.8125 64.3125 \r\nQ 13.671875 62.703125 7.8125 59.421875 \r\nL 7.8125 69.390625 \r\nQ 13.765625 71.78125 18.9375 73 \r\nQ 24.125 74.21875 28.421875 74.21875 \r\nQ 39.75 74.21875 46.484375 68.546875 \r\nQ 53.21875 62.890625 53.21875 53.421875 \r\nQ 53.21875 48.921875 51.53125 44.890625 \r\nQ 49.859375 40.875 45.40625 35.40625 \r\nQ 44.1875 33.984375 37.640625 27.21875 \r\nQ 31.109375 20.453125 19.1875 8.296875 \r\nz\r\n\" id=\"DejaVuSans-50\"/>\r\n      </defs>\r\n      <g transform=\"translate(114.57025 242.811156)scale(0.1 -0.1)\">\r\n       <use xlink:href=\"#DejaVuSans-50\"/>\r\n       <use x=\"63.623047\" xlink:href=\"#DejaVuSans-48\"/>\r\n       <use x=\"127.246094\" xlink:href=\"#DejaVuSans-48\"/>\r\n      </g>\r\n     </g>\r\n    </g>\r\n    <g id=\"xtick_4\">\r\n     <g id=\"line2d_4\">\r\n      <g>\r\n       <use style=\"stroke:#000000;stroke-width:0.8;\" x=\"169.414\" xlink:href=\"#m18a3b1e173\" y=\"228.212719\"/>\r\n      </g>\r\n     </g>\r\n     <g id=\"text_4\">\r\n      <!-- 300 -->\r\n      <defs>\r\n       <path d=\"M 40.578125 39.3125 \r\nQ 47.65625 37.796875 51.625 33 \r\nQ 55.609375 28.21875 55.609375 21.1875 \r\nQ 55.609375 10.40625 48.1875 4.484375 \r\nQ 40.765625 -1.421875 27.09375 -1.421875 \r\nQ 22.515625 -1.421875 17.65625 -0.515625 \r\nQ 12.796875 0.390625 7.625 2.203125 \r\nL 7.625 11.71875 \r\nQ 11.71875 9.328125 16.59375 8.109375 \r\nQ 21.484375 6.890625 26.8125 6.890625 \r\nQ 36.078125 6.890625 40.9375 10.546875 \r\nQ 45.796875 14.203125 45.796875 21.1875 \r\nQ 45.796875 27.640625 41.28125 31.265625 \r\nQ 36.765625 34.90625 28.71875 34.90625 \r\nL 20.21875 34.90625 \r\nL 20.21875 43.015625 \r\nL 29.109375 43.015625 \r\nQ 36.375 43.015625 40.234375 45.921875 \r\nQ 44.09375 48.828125 44.09375 54.296875 \r\nQ 44.09375 59.90625 40.109375 62.90625 \r\nQ 36.140625 65.921875 28.71875 65.921875 \r\nQ 24.65625 65.921875 20.015625 65.03125 \r\nQ 15.375 64.15625 9.8125 62.3125 \r\nL 9.8125 71.09375 \r\nQ 15.4375 72.65625 20.34375 73.4375 \r\nQ 25.25 74.21875 29.59375 74.21875 \r\nQ 40.828125 74.21875 47.359375 69.109375 \r\nQ 53.90625 64.015625 53.90625 55.328125 \r\nQ 53.90625 49.265625 50.4375 45.09375 \r\nQ 46.96875 40.921875 40.578125 39.3125 \r\nz\r\n\" id=\"DejaVuSans-51\"/>\r\n      </defs>\r\n      <g transform=\"translate(159.87025 242.811156)scale(0.1 -0.1)\">\r\n       <use xlink:href=\"#DejaVuSans-51\"/>\r\n       <use x=\"63.623047\" xlink:href=\"#DejaVuSans-48\"/>\r\n       <use x=\"127.246094\" xlink:href=\"#DejaVuSans-48\"/>\r\n      </g>\r\n     </g>\r\n    </g>\r\n    <g id=\"xtick_5\">\r\n     <g id=\"line2d_5\">\r\n      <g>\r\n       <use style=\"stroke:#000000;stroke-width:0.8;\" x=\"214.714\" xlink:href=\"#m18a3b1e173\" y=\"228.212719\"/>\r\n      </g>\r\n     </g>\r\n     <g id=\"text_5\">\r\n      <!-- 400 -->\r\n      <defs>\r\n       <path d=\"M 37.796875 64.3125 \r\nL 12.890625 25.390625 \r\nL 37.796875 25.390625 \r\nz\r\nM 35.203125 72.90625 \r\nL 47.609375 72.90625 \r\nL 47.609375 25.390625 \r\nL 58.015625 25.390625 \r\nL 58.015625 17.1875 \r\nL 47.609375 17.1875 \r\nL 47.609375 0 \r\nL 37.796875 0 \r\nL 37.796875 17.1875 \r\nL 4.890625 17.1875 \r\nL 4.890625 26.703125 \r\nz\r\n\" id=\"DejaVuSans-52\"/>\r\n      </defs>\r\n      <g transform=\"translate(205.17025 242.811156)scale(0.1 -0.1)\">\r\n       <use xlink:href=\"#DejaVuSans-52\"/>\r\n       <use x=\"63.623047\" xlink:href=\"#DejaVuSans-48\"/>\r\n       <use x=\"127.246094\" xlink:href=\"#DejaVuSans-48\"/>\r\n      </g>\r\n     </g>\r\n    </g>\r\n    <g id=\"xtick_6\">\r\n     <g id=\"line2d_6\">\r\n      <g>\r\n       <use style=\"stroke:#000000;stroke-width:0.8;\" x=\"260.014\" xlink:href=\"#m18a3b1e173\" y=\"228.212719\"/>\r\n      </g>\r\n     </g>\r\n     <g id=\"text_6\">\r\n      <!-- 500 -->\r\n      <defs>\r\n       <path d=\"M 10.796875 72.90625 \r\nL 49.515625 72.90625 \r\nL 49.515625 64.59375 \r\nL 19.828125 64.59375 \r\nL 19.828125 46.734375 \r\nQ 21.96875 47.46875 24.109375 47.828125 \r\nQ 26.265625 48.1875 28.421875 48.1875 \r\nQ 40.625 48.1875 47.75 41.5 \r\nQ 54.890625 34.8125 54.890625 23.390625 \r\nQ 54.890625 11.625 47.5625 5.09375 \r\nQ 40.234375 -1.421875 26.90625 -1.421875 \r\nQ 22.3125 -1.421875 17.546875 -0.640625 \r\nQ 12.796875 0.140625 7.71875 1.703125 \r\nL 7.71875 11.625 \r\nQ 12.109375 9.234375 16.796875 8.0625 \r\nQ 21.484375 6.890625 26.703125 6.890625 \r\nQ 35.15625 6.890625 40.078125 11.328125 \r\nQ 45.015625 15.765625 45.015625 23.390625 \r\nQ 45.015625 31 40.078125 35.4375 \r\nQ 35.15625 39.890625 26.703125 39.890625 \r\nQ 22.75 39.890625 18.8125 39.015625 \r\nQ 14.890625 38.140625 10.796875 36.28125 \r\nz\r\n\" id=\"DejaVuSans-53\"/>\r\n      </defs>\r\n      <g transform=\"translate(250.47025 242.811156)scale(0.1 -0.1)\">\r\n       <use xlink:href=\"#DejaVuSans-53\"/>\r\n       <use x=\"63.623047\" xlink:href=\"#DejaVuSans-48\"/>\r\n       <use x=\"127.246094\" xlink:href=\"#DejaVuSans-48\"/>\r\n      </g>\r\n     </g>\r\n    </g>\r\n    <g id=\"xtick_7\">\r\n     <g id=\"line2d_7\">\r\n      <g>\r\n       <use style=\"stroke:#000000;stroke-width:0.8;\" x=\"305.314\" xlink:href=\"#m18a3b1e173\" y=\"228.212719\"/>\r\n      </g>\r\n     </g>\r\n     <g id=\"text_7\">\r\n      <!-- 600 -->\r\n      <defs>\r\n       <path d=\"M 33.015625 40.375 \r\nQ 26.375 40.375 22.484375 35.828125 \r\nQ 18.609375 31.296875 18.609375 23.390625 \r\nQ 18.609375 15.53125 22.484375 10.953125 \r\nQ 26.375 6.390625 33.015625 6.390625 \r\nQ 39.65625 6.390625 43.53125 10.953125 \r\nQ 47.40625 15.53125 47.40625 23.390625 \r\nQ 47.40625 31.296875 43.53125 35.828125 \r\nQ 39.65625 40.375 33.015625 40.375 \r\nz\r\nM 52.59375 71.296875 \r\nL 52.59375 62.3125 \r\nQ 48.875 64.0625 45.09375 64.984375 \r\nQ 41.3125 65.921875 37.59375 65.921875 \r\nQ 27.828125 65.921875 22.671875 59.328125 \r\nQ 17.53125 52.734375 16.796875 39.40625 \r\nQ 19.671875 43.65625 24.015625 45.921875 \r\nQ 28.375 48.1875 33.59375 48.1875 \r\nQ 44.578125 48.1875 50.953125 41.515625 \r\nQ 57.328125 34.859375 57.328125 23.390625 \r\nQ 57.328125 12.15625 50.6875 5.359375 \r\nQ 44.046875 -1.421875 33.015625 -1.421875 \r\nQ 20.359375 -1.421875 13.671875 8.265625 \r\nQ 6.984375 17.96875 6.984375 36.375 \r\nQ 6.984375 53.65625 15.1875 63.9375 \r\nQ 23.390625 74.21875 37.203125 74.21875 \r\nQ 40.921875 74.21875 44.703125 73.484375 \r\nQ 48.484375 72.75 52.59375 71.296875 \r\nz\r\n\" id=\"DejaVuSans-54\"/>\r\n      </defs>\r\n      <g transform=\"translate(295.77025 242.811156)scale(0.1 -0.1)\">\r\n       <use xlink:href=\"#DejaVuSans-54\"/>\r\n       <use x=\"63.623047\" xlink:href=\"#DejaVuSans-48\"/>\r\n       <use x=\"127.246094\" xlink:href=\"#DejaVuSans-48\"/>\r\n      </g>\r\n     </g>\r\n    </g>\r\n   </g>\r\n   <g id=\"matplotlib.axis_2\">\r\n    <g id=\"ytick_1\">\r\n     <g id=\"line2d_8\">\r\n      <defs>\r\n       <path d=\"M 0 0 \r\nL -3.5 0 \r\n\" id=\"mf4115de685\" style=\"stroke:#000000;stroke-width:0.8;\"/>\r\n      </defs>\r\n      <g>\r\n       <use style=\"stroke:#000000;stroke-width:0.8;\" x=\"33.2875\" xlink:href=\"#mf4115de685\" y=\"10.999219\"/>\r\n      </g>\r\n     </g>\r\n     <g id=\"text_8\">\r\n      <!-- 0 -->\r\n      <g transform=\"translate(19.925 14.798437)scale(0.1 -0.1)\">\r\n       <use xlink:href=\"#DejaVuSans-48\"/>\r\n      </g>\r\n     </g>\r\n    </g>\r\n    <g id=\"ytick_2\">\r\n     <g id=\"line2d_9\">\r\n      <g>\r\n       <use style=\"stroke:#000000;stroke-width:0.8;\" x=\"33.2875\" xlink:href=\"#mf4115de685\" y=\"56.299219\"/>\r\n      </g>\r\n     </g>\r\n     <g id=\"text_9\">\r\n      <!-- 100 -->\r\n      <g transform=\"translate(7.2 60.098437)scale(0.1 -0.1)\">\r\n       <use xlink:href=\"#DejaVuSans-49\"/>\r\n       <use x=\"63.623047\" xlink:href=\"#DejaVuSans-48\"/>\r\n       <use x=\"127.246094\" xlink:href=\"#DejaVuSans-48\"/>\r\n      </g>\r\n     </g>\r\n    </g>\r\n    <g id=\"ytick_3\">\r\n     <g id=\"line2d_10\">\r\n      <g>\r\n       <use style=\"stroke:#000000;stroke-width:0.8;\" x=\"33.2875\" xlink:href=\"#mf4115de685\" y=\"101.599219\"/>\r\n      </g>\r\n     </g>\r\n     <g id=\"text_10\">\r\n      <!-- 200 -->\r\n      <g transform=\"translate(7.2 105.398437)scale(0.1 -0.1)\">\r\n       <use xlink:href=\"#DejaVuSans-50\"/>\r\n       <use x=\"63.623047\" xlink:href=\"#DejaVuSans-48\"/>\r\n       <use x=\"127.246094\" xlink:href=\"#DejaVuSans-48\"/>\r\n      </g>\r\n     </g>\r\n    </g>\r\n    <g id=\"ytick_4\">\r\n     <g id=\"line2d_11\">\r\n      <g>\r\n       <use style=\"stroke:#000000;stroke-width:0.8;\" x=\"33.2875\" xlink:href=\"#mf4115de685\" y=\"146.899219\"/>\r\n      </g>\r\n     </g>\r\n     <g id=\"text_11\">\r\n      <!-- 300 -->\r\n      <g transform=\"translate(7.2 150.698437)scale(0.1 -0.1)\">\r\n       <use xlink:href=\"#DejaVuSans-51\"/>\r\n       <use x=\"63.623047\" xlink:href=\"#DejaVuSans-48\"/>\r\n       <use x=\"127.246094\" xlink:href=\"#DejaVuSans-48\"/>\r\n      </g>\r\n     </g>\r\n    </g>\r\n    <g id=\"ytick_5\">\r\n     <g id=\"line2d_12\">\r\n      <g>\r\n       <use style=\"stroke:#000000;stroke-width:0.8;\" x=\"33.2875\" xlink:href=\"#mf4115de685\" y=\"192.199219\"/>\r\n      </g>\r\n     </g>\r\n     <g id=\"text_12\">\r\n      <!-- 400 -->\r\n      <g transform=\"translate(7.2 195.998437)scale(0.1 -0.1)\">\r\n       <use xlink:href=\"#DejaVuSans-52\"/>\r\n       <use x=\"63.623047\" xlink:href=\"#DejaVuSans-48\"/>\r\n       <use x=\"127.246094\" xlink:href=\"#DejaVuSans-48\"/>\r\n      </g>\r\n     </g>\r\n    </g>\r\n   </g>\r\n   <g id=\"patch_3\">\r\n    <path d=\"M 33.2875 228.212719 \r\nL 33.2875 10.772719 \r\n\" style=\"fill:none;stroke:#000000;stroke-linecap:square;stroke-linejoin:miter;stroke-width:0.8;\"/>\r\n   </g>\r\n   <g id=\"patch_4\">\r\n    <path d=\"M 323.2075 228.212719 \r\nL 323.2075 10.772719 \r\n\" style=\"fill:none;stroke:#000000;stroke-linecap:square;stroke-linejoin:miter;stroke-width:0.8;\"/>\r\n   </g>\r\n   <g id=\"patch_5\">\r\n    <path d=\"M 33.2875 228.212719 \r\nL 323.2075 228.212719 \r\n\" style=\"fill:none;stroke:#000000;stroke-linecap:square;stroke-linejoin:miter;stroke-width:0.8;\"/>\r\n   </g>\r\n   <g id=\"patch_6\">\r\n    <path d=\"M 33.2875 10.772719 \r\nL 323.2075 10.772719 \r\n\" style=\"fill:none;stroke:#000000;stroke-linecap:square;stroke-linejoin:miter;stroke-width:0.8;\"/>\r\n   </g>\r\n  </g>\r\n </g>\r\n <defs>\r\n  <clipPath id=\"p4d26699f77\">\r\n   <rect height=\"217.44\" width=\"289.92\" x=\"33.2875\" y=\"10.772719\"/>\r\n  </clipPath>\r\n </defs>\r\n</svg>\r\n",
      "image/png": "[encoded data removed]"
     },
     "metadata": {
      "needs_background": "light"
     }
    }
   ],
   "source": [
    "with open(CSV_PATH, \"w\", encoding=\"utf-8\") as csv_file:\n",
    "    print(\",\".join([\"filename\", \"width\", \"height\", \"class\", \"xmin\", \"ymin\", \"xmax\", \"ymax\"]), file=csv_file)\n",
    "    for (stable_path, malfunction_path) in zip(stable_dir, malfunction_dir):\n",
    "        isolate_malfunctions(stable_path, malfunction_path, csv_file)"
   ]
  },
  {
   "cell_type": "code",
   "execution_count": 26,
   "metadata": {},
   "outputs": [],
   "source": [
    "data = pd.read_csv(CSV_PATH)\n",
    "train = data.sample(frac=0.80, random_state=42)\n",
    "train.to_csv(TRAIN_CSV_PATH, sep=',', index=False)\n",
    "test = data.drop(train.index)\n",
    "test.to_csv(TEST_CSV_PATH, sep=',', index=False)"
   ]
  },
  {
   "cell_type": "code",
   "execution_count": 27,
   "metadata": {},
   "outputs": [],
   "source": [
    "def class_text_to_int(row_label):\n",
    "    if row_label == 'malfunction':\n",
    "        return 1\n",
    "    else:\n",
    "        None\n",
    "\n",
    "def split(df, group):\n",
    "    data = namedtuple('data', ['filename', 'object'])\n",
    "    gb = df.groupby(group)\n",
    "    return [data(filename, gb.get_group(x)) for filename, x in zip(gb.groups.keys(), gb.groups)]\n",
    "\n",
    "def create_tf_example(group, path):\n",
    "    with tf.gfile.GFile(os.path.join(path, '{}'.format(group.filename)), 'rb') as fid:\n",
    "        encoded_jpg = fid.read()\n",
    "    encoded_jpg_io = io.BytesIO(encoded_jpg)\n",
    "    image = Image.open(encoded_jpg_io)\n",
    "    width, height = image.size\n",
    "    filename = group.filename.encode('utf8')\n",
    "    image_format = b'png'\n",
    "    xmins = []\n",
    "    xmaxs = []\n",
    "    ymins = []\n",
    "    ymaxs = []\n",
    "    classes_text = []\n",
    "    classes = []\n",
    "\n",
    "    for index, row in group.object.iterrows():\n",
    "        xmins.append(row['xmin'] / width)\n",
    "        xmaxs.append(row['xmax'] / width)\n",
    "        ymins.append(row['ymin'] / height)\n",
    "        ymaxs.append(row['ymax'] / height)\n",
    "        classes_text.append(row['class'].encode('utf8'))\n",
    "        classes.append(class_text_to_int(row['class']))\n",
    "\n",
    "    tf_example = tf.train.Example(features=tf.train.Features(feature={\n",
    "        'image/height': dataset_util.int64_feature(height),\n",
    "        'image/width': dataset_util.int64_feature(width),\n",
    "        'image/filename': dataset_util.bytes_feature(filename),\n",
    "        'image/source_id': dataset_util.bytes_feature(filename),\n",
    "        'image/encoded': dataset_util.bytes_feature(encoded_jpg),\n",
    "        'image/format': dataset_util.bytes_feature(image_format),\n",
    "        'image/object/bbox/xmin': dataset_util.float_list_feature(xmins),\n",
    "        'image/object/bbox/xmax': dataset_util.float_list_feature(xmaxs),\n",
    "        'image/object/bbox/ymin': dataset_util.float_list_feature(ymins),\n",
    "        'image/object/bbox/ymax': dataset_util.float_list_feature(ymaxs),\n",
    "        'image/object/class/text': dataset_util.bytes_list_feature(classes_text),\n",
    "        'image/object/class/label': dataset_util.int64_list_feature(classes),\n",
    "    }))\n",
    "    return tf_example"
   ]
  },
  {
   "cell_type": "code",
   "execution_count": 28,
   "metadata": {},
   "outputs": [],
   "source": [
    "def generate_tfrecords(files):\n",
    "    for file in files:\n",
    "        name = os.path.basename(file).split(\".\")[0]\n",
    "        writer = tf.python_io.TFRecordWriter(os.path.join(DATA, \"{}.record\".format(name)))\n",
    "        path = os.path.join(OBJECTS)\n",
    "        examples = pd.read_csv(file)\n",
    "        grouped = split(examples, 'filename')\n",
    "        for group in grouped:\n",
    "            tf_example = create_tf_example(group, path)\n",
    "            writer.write(tf_example.SerializeToString())\n",
    "        writer.close()"
   ]
  },
  {
   "cell_type": "code",
   "execution_count": 29,
   "metadata": {},
   "outputs": [],
   "source": [
    "generate_tfrecords([TRAIN_CSV_PATH, TEST_CSV_PATH])"
   ]
  },
  {
   "cell_type": "code",
   "execution_count": 30,
   "metadata": {},
   "outputs": [
    {
     "output_type": "stream",
     "name": "stdout",
     "text": "[name: \"/device:CPU:0\"\ndevice_type: \"CPU\"\nmemory_limit: 268435456\nlocality {\n}\nincarnation: 15193567570647793818\n, name: \"/device:GPU:0\"\ndevice_type: \"GPU\"\nmemory_limit: 1360193126\nlocality {\n  bus_id: 1\n  links {\n  }\n}\nincarnation: 15813837230925693479\nphysical_device_desc: \"device: 0, name: GeForce GTX 960M, pci bus id: 0000:01:00.0, compute capability: 5.0\"\n]\n"
    }
   ],
   "source": [
    "from tensorflow.python.client import device_lib\n",
    "print(device_lib.list_local_devices())"
   ]
  },
  {
   "cell_type": "code",
   "execution_count": 34,
   "metadata": {},
   "outputs": [],
   "source": [
    "def convert_frames_to_video(fileout, path):\n",
    "    frame_array = []\n",
    "    files = glob.glob(os.path.join(*path, \"*.png\"))\n",
    "    prefix = \"malfunction_\"\n",
    "\n",
    "    #for sorting the file names properly\n",
    "    files.sort(key = lambda x: int(x[x.index(prefix)+len(prefix):-4]))\n",
    "\n",
    "    for i in range(len(files)):\n",
    "        filename= files[i]\n",
    "        #reading each files\n",
    "        img = cv2.imread(filename)\n",
    "        height, width, layers = img.shape\n",
    "        size = (width,height)\n",
    "        #inserting the frames into an image array\n",
    "        frame_array.append(img)\n",
    "\n",
    "    out = cv2.VideoWriter(os.path.join(DATA, \"{}.avi\".format(fileout)), cv2.VideoWriter_fourcc(*'DIVX'), 15, size)\n",
    "\n",
    "    for i in range(len(frame_array)):\n",
    "        # writing to a image array\n",
    "        out.write(frame_array[i])\n",
    "    cv2.destroyAllWindows()\n",
    "    out.release()"
   ]
  },
  {
   "cell_type": "code",
   "execution_count": 35,
   "metadata": {
    "tags": [
     "outputPrepend",
     "outputPrepend",
     "outputPrepend"
    ]
   },
   "outputs": [
    {
     "output_type": "stream",
     "name": "stdout",
     "text": "on_146.png', 'c:\\\\Users\\\\HeiligesLicht\\\\Desktop\\\\DLRS\\\\src\\\\frames\\\\object_detection\\\\malfunction\\\\malfunction_147.png', 'c:\\\\Users\\\\HeiligesLicht\\\\Desktop\\\\DLRS\\\\src\\\\frames\\\\object_detection\\\\malfunction\\\\malfunction_148.png', 'c:\\\\Users\\\\HeiligesLicht\\\\Desktop\\\\DLRS\\\\src\\\\frames\\\\object_detection\\\\malfunction\\\\malfunction_149.png', 'c:\\\\Users\\\\HeiligesLicht\\\\Desktop\\\\DLRS\\\\src\\\\frames\\\\object_detection\\\\malfunction\\\\malfunction_15.png', 'c:\\\\Users\\\\HeiligesLicht\\\\Desktop\\\\DLRS\\\\src\\\\frames\\\\object_detection\\\\malfunction\\\\malfunction_150.png', 'c:\\\\Users\\\\HeiligesLicht\\\\Desktop\\\\DLRS\\\\src\\\\frames\\\\object_detection\\\\malfunction\\\\malfunction_151.png', 'c:\\\\Users\\\\HeiligesLicht\\\\Desktop\\\\DLRS\\\\src\\\\frames\\\\object_detection\\\\malfunction\\\\malfunction_152.png', 'c:\\\\Users\\\\HeiligesLicht\\\\Desktop\\\\DLRS\\\\src\\\\frames\\\\object_detection\\\\malfunction\\\\malfunction_153.png', 'c:\\\\Users\\\\HeiligesLicht\\\\Desktop\\\\DLRS\\\\src\\\\frames\\\\object_detection\\\\malfunction\\\\malfunction_154.png', 'c:\\\\Users\\\\HeiligesLicht\\\\Desktop\\\\DLRS\\\\src\\\\frames\\\\object_detection\\\\malfunction\\\\malfunction_155.png', 'c:\\\\Users\\\\HeiligesLicht\\\\Desktop\\\\DLRS\\\\src\\\\frames\\\\object_detection\\\\malfunction\\\\malfunction_156.png', 'c:\\\\Users\\\\HeiligesLicht\\\\Desktop\\\\DLRS\\\\src\\\\frames\\\\object_detection\\\\malfunction\\\\malfunction_157.png', 'c:\\\\Users\\\\HeiligesLicht\\\\Desktop\\\\DLRS\\\\src\\\\frames\\\\object_detection\\\\malfunction\\\\malfunction_158.png', 'c:\\\\Users\\\\HeiligesLicht\\\\Desktop\\\\DLRS\\\\src\\\\frames\\\\object_detection\\\\malfunction\\\\malfunction_159.png', 'c:\\\\Users\\\\HeiligesLicht\\\\Desktop\\\\DLRS\\\\src\\\\frames\\\\object_detection\\\\malfunction\\\\malfunction_16.png', 'c:\\\\Users\\\\HeiligesLicht\\\\Desktop\\\\DLRS\\\\src\\\\frames\\\\object_detection\\\\malfunction\\\\malfunction_160.png', 'c:\\\\Users\\\\HeiligesLicht\\\\Desktop\\\\DLRS\\\\src\\\\frames\\\\object_detection\\\\malfunction\\\\malfunction_161.png', 'c:\\\\Users\\\\HeiligesLicht\\\\Desktop\\\\DLRS\\\\src\\\\frames\\\\object_detection\\\\malfunction\\\\malfunction_162.png', 'c:\\\\Users\\\\HeiligesLicht\\\\Desktop\\\\DLRS\\\\src\\\\frames\\\\object_detection\\\\malfunction\\\\malfunction_163.png', 'c:\\\\Users\\\\HeiligesLicht\\\\Desktop\\\\DLRS\\\\src\\\\frames\\\\object_detection\\\\malfunction\\\\malfunction_164.png', 'c:\\\\Users\\\\HeiligesLicht\\\\Desktop\\\\DLRS\\\\src\\\\frames\\\\object_detection\\\\malfunction\\\\malfunction_165.png', 'c:\\\\Users\\\\HeiligesLicht\\\\Desktop\\\\DLRS\\\\src\\\\frames\\\\object_detection\\\\malfunction\\\\malfunction_166.png', 'c:\\\\Users\\\\HeiligesLicht\\\\Desktop\\\\DLRS\\\\src\\\\frames\\\\object_detection\\\\malfunction\\\\malfunction_167.png', 'c:\\\\Users\\\\HeiligesLicht\\\\Desktop\\\\DLRS\\\\src\\\\frames\\\\object_detection\\\\malfunction\\\\malfunction_168.png', 'c:\\\\Users\\\\HeiligesLicht\\\\Desktop\\\\DLRS\\\\src\\\\frames\\\\object_detection\\\\malfunction\\\\malfunction_169.png', 'c:\\\\Users\\\\HeiligesLicht\\\\Desktop\\\\DLRS\\\\src\\\\frames\\\\object_detection\\\\malfunction\\\\malfunction_17.png', 'c:\\\\Users\\\\HeiligesLicht\\\\Desktop\\\\DLRS\\\\src\\\\frames\\\\object_detection\\\\malfunction\\\\malfunction_170.png', 'c:\\\\Users\\\\HeiligesLicht\\\\Desktop\\\\DLRS\\\\src\\\\frames\\\\object_detection\\\\malfunction\\\\malfunction_171.png', 'c:\\\\Users\\\\HeiligesLicht\\\\Desktop\\\\DLRS\\\\src\\\\frames\\\\object_detection\\\\malfunction\\\\malfunction_172.png', 'c:\\\\Users\\\\HeiligesLicht\\\\Desktop\\\\DLRS\\\\src\\\\frames\\\\object_detection\\\\malfunction\\\\malfunction_173.png', 'c:\\\\Users\\\\HeiligesLicht\\\\Desktop\\\\DLRS\\\\src\\\\frames\\\\object_detection\\\\malfunction\\\\malfunction_174.png', 'c:\\\\Users\\\\HeiligesLicht\\\\Desktop\\\\DLRS\\\\src\\\\frames\\\\object_detection\\\\malfunction\\\\malfunction_175.png', 'c:\\\\Users\\\\HeiligesLicht\\\\Desktop\\\\DLRS\\\\src\\\\frames\\\\object_detection\\\\malfunction\\\\malfunction_176.png', 'c:\\\\Users\\\\HeiligesLicht\\\\Desktop\\\\DLRS\\\\src\\\\frames\\\\object_detection\\\\malfunction\\\\malfunction_177.png', 'c:\\\\Users\\\\HeiligesLicht\\\\Desktop\\\\DLRS\\\\src\\\\frames\\\\object_detection\\\\malfunction\\\\malfunction_178.png', 'c:\\\\Users\\\\HeiligesLicht\\\\Desktop\\\\DLRS\\\\src\\\\frames\\\\object_detection\\\\malfunction\\\\malfunction_179.png', 'c:\\\\Users\\\\HeiligesLicht\\\\Desktop\\\\DLRS\\\\src\\\\frames\\\\object_detection\\\\malfunction\\\\malfunction_18.png', 'c:\\\\Users\\\\HeiligesLicht\\\\Desktop\\\\DLRS\\\\src\\\\frames\\\\object_detection\\\\malfunction\\\\malfunction_180.png', 'c:\\\\Users\\\\HeiligesLicht\\\\Desktop\\\\DLRS\\\\src\\\\frames\\\\object_detection\\\\malfunction\\\\malfunction_181.png', 'c:\\\\Users\\\\HeiligesLicht\\\\Desktop\\\\DLRS\\\\src\\\\frames\\\\object_detection\\\\malfunction\\\\malfunction_182.png', 'c:\\\\Users\\\\HeiligesLicht\\\\Desktop\\\\DLRS\\\\src\\\\frames\\\\object_detection\\\\malfunction\\\\malfunction_183.png', 'c:\\\\Users\\\\HeiligesLicht\\\\Desktop\\\\DLRS\\\\src\\\\frames\\\\object_detection\\\\malfunction\\\\malfunction_184.png', 'c:\\\\Users\\\\HeiligesLicht\\\\Desktop\\\\DLRS\\\\src\\\\frames\\\\object_detection\\\\malfunction\\\\malfunction_185.png', 'c:\\\\Users\\\\HeiligesLicht\\\\Desktop\\\\DLRS\\\\src\\\\frames\\\\object_detection\\\\malfunction\\\\malfunction_186.png', 'c:\\\\Users\\\\HeiligesLicht\\\\Desktop\\\\DLRS\\\\src\\\\frames\\\\object_detection\\\\malfunction\\\\malfunction_187.png', 'c:\\\\Users\\\\HeiligesLicht\\\\Desktop\\\\DLRS\\\\src\\\\frames\\\\object_detection\\\\malfunction\\\\malfunction_188.png', 'c:\\\\Users\\\\HeiligesLicht\\\\Desktop\\\\DLRS\\\\src\\\\frames\\\\object_detection\\\\malfunction\\\\malfunction_189.png', 'c:\\\\Users\\\\HeiligesLicht\\\\Desktop\\\\DLRS\\\\src\\\\frames\\\\object_detection\\\\malfunction\\\\malfunction_19.png', 'c:\\\\Users\\\\HeiligesLicht\\\\Desktop\\\\DLRS\\\\src\\\\frames\\\\object_detection\\\\malfunction\\\\malfunction_190.png', 'c:\\\\Users\\\\HeiligesLicht\\\\Desktop\\\\DLRS\\\\src\\\\frames\\\\object_detection\\\\malfunction\\\\malfunction_191.png', 'c:\\\\Users\\\\HeiligesLicht\\\\Desktop\\\\DLRS\\\\src\\\\frames\\\\object_detection\\\\malfunction\\\\malfunction_192.png', 'c:\\\\Users\\\\HeiligesLicht\\\\Desktop\\\\DLRS\\\\src\\\\frames\\\\object_detection\\\\malfunction\\\\malfunction_193.png', 'c:\\\\Users\\\\HeiligesLicht\\\\Desktop\\\\DLRS\\\\src\\\\frames\\\\object_detection\\\\malfunction\\\\malfunction_194.png', 'c:\\\\Users\\\\HeiligesLicht\\\\Desktop\\\\DLRS\\\\src\\\\frames\\\\object_detection\\\\malfunction\\\\malfunction_195.png', 'c:\\\\Users\\\\HeiligesLicht\\\\Desktop\\\\DLRS\\\\src\\\\frames\\\\object_detection\\\\malfunction\\\\malfunction_196.png', 'c:\\\\Users\\\\HeiligesLicht\\\\Desktop\\\\DLRS\\\\src\\\\frames\\\\object_detection\\\\malfunction\\\\malfunction_197.png', 'c:\\\\Users\\\\HeiligesLicht\\\\Desktop\\\\DLRS\\\\src\\\\frames\\\\object_detection\\\\malfunction\\\\malfunction_198.png', 'c:\\\\Users\\\\HeiligesLicht\\\\Desktop\\\\DLRS\\\\src\\\\frames\\\\object_detection\\\\malfunction\\\\malfunction_199.png', 'c:\\\\Users\\\\HeiligesLicht\\\\Desktop\\\\DLRS\\\\src\\\\frames\\\\object_detection\\\\malfunction\\\\malfunction_2.png', 'c:\\\\Users\\\\HeiligesLicht\\\\Desktop\\\\DLRS\\\\src\\\\frames\\\\object_detection\\\\malfunction\\\\malfunction_20.png', 'c:\\\\Users\\\\HeiligesLicht\\\\Desktop\\\\DLRS\\\\src\\\\frames\\\\object_detection\\\\malfunction\\\\malfunction_200.png', 'c:\\\\Users\\\\HeiligesLicht\\\\Desktop\\\\DLRS\\\\src\\\\frames\\\\object_detection\\\\malfunction\\\\malfunction_201.png', 'c:\\\\Users\\\\HeiligesLicht\\\\Desktop\\\\DLRS\\\\src\\\\frames\\\\object_detection\\\\malfunction\\\\malfunction_202.png', 'c:\\\\Users\\\\HeiligesLicht\\\\Desktop\\\\DLRS\\\\src\\\\frames\\\\object_detection\\\\malfunction\\\\malfunction_203.png', 'c:\\\\Users\\\\HeiligesLicht\\\\Desktop\\\\DLRS\\\\src\\\\frames\\\\object_detection\\\\malfunction\\\\malfunction_204.png', 'c:\\\\Users\\\\HeiligesLicht\\\\Desktop\\\\DLRS\\\\src\\\\frames\\\\object_detection\\\\malfunction\\\\malfunction_205.png', 'c:\\\\Users\\\\HeiligesLicht\\\\Desktop\\\\DLRS\\\\src\\\\frames\\\\object_detection\\\\malfunction\\\\malfunction_206.png', 'c:\\\\Users\\\\HeiligesLicht\\\\Desktop\\\\DLRS\\\\src\\\\frames\\\\object_detection\\\\malfunction\\\\malfunction_207.png', 'c:\\\\Users\\\\HeiligesLicht\\\\Desktop\\\\DLRS\\\\src\\\\frames\\\\object_detection\\\\malfunction\\\\malfunction_208.png', 'c:\\\\Users\\\\HeiligesLicht\\\\Desktop\\\\DLRS\\\\src\\\\frames\\\\object_detection\\\\malfunction\\\\malfunction_209.png', 'c:\\\\Users\\\\HeiligesLicht\\\\Desktop\\\\DLRS\\\\src\\\\frames\\\\object_detection\\\\malfunction\\\\malfunction_21.png', 'c:\\\\Users\\\\HeiligesLicht\\\\Desktop\\\\DLRS\\\\src\\\\frames\\\\object_detection\\\\malfunction\\\\malfunction_210.png', 'c:\\\\Users\\\\HeiligesLicht\\\\Desktop\\\\DLRS\\\\src\\\\frames\\\\object_detection\\\\malfunction\\\\malfunction_211.png', 'c:\\\\Users\\\\HeiligesLicht\\\\Desktop\\\\DLRS\\\\src\\\\frames\\\\object_detection\\\\malfunction\\\\malfunction_212.png', 'c:\\\\Users\\\\HeiligesLicht\\\\Desktop\\\\DLRS\\\\src\\\\frames\\\\object_detection\\\\malfunction\\\\malfunction_213.png', 'c:\\\\Users\\\\HeiligesLicht\\\\Desktop\\\\DLRS\\\\src\\\\frames\\\\object_detection\\\\malfunction\\\\malfunction_214.png', 'c:\\\\Users\\\\HeiligesLicht\\\\Desktop\\\\DLRS\\\\src\\\\frames\\\\object_detection\\\\malfunction\\\\malfunction_215.png', 'c:\\\\Users\\\\HeiligesLicht\\\\Desktop\\\\DLRS\\\\src\\\\frames\\\\object_detection\\\\malfunction\\\\malfunction_216.png', 'c:\\\\Users\\\\HeiligesLicht\\\\Desktop\\\\DLRS\\\\src\\\\frames\\\\object_detection\\\\malfunction\\\\malfunction_217.png', 'c:\\\\Users\\\\HeiligesLicht\\\\Desktop\\\\DLRS\\\\src\\\\frames\\\\object_detection\\\\malfunction\\\\malfunction_218.png', 'c:\\\\Users\\\\HeiligesLicht\\\\Desktop\\\\DLRS\\\\src\\\\frames\\\\object_detection\\\\malfunction\\\\malfunction_219.png', 'c:\\\\Users\\\\HeiligesLicht\\\\Desktop\\\\DLRS\\\\src\\\\frames\\\\object_detection\\\\malfunction\\\\malfunction_22.png', 'c:\\\\Users\\\\HeiligesLicht\\\\Desktop\\\\DLRS\\\\src\\\\frames\\\\object_detection\\\\malfunction\\\\malfunction_220.png', 'c:\\\\Users\\\\HeiligesLicht\\\\Desktop\\\\DLRS\\\\src\\\\frames\\\\object_detection\\\\malfunction\\\\malfunction_221.png', 'c:\\\\Users\\\\HeiligesLicht\\\\Desktop\\\\DLRS\\\\src\\\\frames\\\\object_detection\\\\malfunction\\\\malfunction_222.png', 'c:\\\\Users\\\\HeiligesLicht\\\\Desktop\\\\DLRS\\\\src\\\\frames\\\\object_detection\\\\malfunction\\\\malfunction_223.png', 'c:\\\\Users\\\\HeiligesLicht\\\\Desktop\\\\DLRS\\\\src\\\\frames\\\\object_detection\\\\malfunction\\\\malfunction_224.png', 'c:\\\\Users\\\\HeiligesLicht\\\\Desktop\\\\DLRS\\\\src\\\\frames\\\\object_detection\\\\malfunction\\\\malfunction_225.png', 'c:\\\\Users\\\\HeiligesLicht\\\\Desktop\\\\DLRS\\\\src\\\\frames\\\\object_detection\\\\malfunction\\\\malfunction_226.png', 'c:\\\\Users\\\\HeiligesLicht\\\\Desktop\\\\DLRS\\\\src\\\\frames\\\\object_detection\\\\malfunction\\\\malfunction_227.png', 'c:\\\\Users\\\\HeiligesLicht\\\\Desktop\\\\DLRS\\\\src\\\\frames\\\\object_detection\\\\malfunction\\\\malfunction_228.png', 'c:\\\\Users\\\\HeiligesLicht\\\\Desktop\\\\DLRS\\\\src\\\\frames\\\\object_detection\\\\malfunction\\\\malfunction_229.png', 'c:\\\\Users\\\\HeiligesLicht\\\\Desktop\\\\DLRS\\\\src\\\\frames\\\\object_detection\\\\malfunction\\\\malfunction_23.png', 'c:\\\\Users\\\\HeiligesLicht\\\\Desktop\\\\DLRS\\\\src\\\\frames\\\\object_detection\\\\malfunction\\\\malfunction_230.png', 'c:\\\\Users\\\\HeiligesLicht\\\\Desktop\\\\DLRS\\\\src\\\\frames\\\\object_detection\\\\malfunction\\\\malfunction_231.png', 'c:\\\\Users\\\\HeiligesLicht\\\\Desktop\\\\DLRS\\\\src\\\\frames\\\\object_detection\\\\malfunction\\\\malfunction_232.png', 'c:\\\\Users\\\\HeiligesLicht\\\\Desktop\\\\DLRS\\\\src\\\\frames\\\\object_detection\\\\malfunction\\\\malfunction_233.png', 'c:\\\\Users\\\\HeiligesLicht\\\\Desktop\\\\DLRS\\\\src\\\\frames\\\\object_detection\\\\malfunction\\\\malfunction_234.png', 'c:\\\\Users\\\\HeiligesLicht\\\\Desktop\\\\DLRS\\\\src\\\\frames\\\\object_detection\\\\malfunction\\\\malfunction_235.png', 'c:\\\\Users\\\\HeiligesLicht\\\\Desktop\\\\DLRS\\\\src\\\\frames\\\\object_detection\\\\malfunction\\\\malfunction_236.png', 'c:\\\\Users\\\\HeiligesLicht\\\\Desktop\\\\DLRS\\\\src\\\\frames\\\\object_detection\\\\malfunction\\\\malfunction_237.png', 'c:\\\\Users\\\\HeiligesLicht\\\\Desktop\\\\DLRS\\\\src\\\\frames\\\\object_detection\\\\malfunction\\\\malfunction_238.png', 'c:\\\\Users\\\\HeiligesLicht\\\\Desktop\\\\DLRS\\\\src\\\\frames\\\\object_detection\\\\malfunction\\\\malfunction_239.png', 'c:\\\\Users\\\\HeiligesLicht\\\\Desktop\\\\DLRS\\\\src\\\\frames\\\\object_detection\\\\malfunction\\\\malfunction_24.png', 'c:\\\\Users\\\\HeiligesLicht\\\\Desktop\\\\DLRS\\\\src\\\\frames\\\\object_detection\\\\malfunction\\\\malfunction_25.png', 'c:\\\\Users\\\\HeiligesLicht\\\\Desktop\\\\DLRS\\\\src\\\\frames\\\\object_detection\\\\malfunction\\\\malfunction_26.png', 'c:\\\\Users\\\\HeiligesLicht\\\\Desktop\\\\DLRS\\\\src\\\\frames\\\\object_detection\\\\malfunction\\\\malfunction_27.png', 'c:\\\\Users\\\\HeiligesLicht\\\\Desktop\\\\DLRS\\\\src\\\\frames\\\\object_detection\\\\malfunction\\\\malfunction_28.png', 'c:\\\\Users\\\\HeiligesLicht\\\\Desktop\\\\DLRS\\\\src\\\\frames\\\\object_detection\\\\malfunction\\\\malfunction_29.png', 'c:\\\\Users\\\\HeiligesLicht\\\\Desktop\\\\DLRS\\\\src\\\\frames\\\\object_detection\\\\malfunction\\\\malfunction_3.png', 'c:\\\\Users\\\\HeiligesLicht\\\\Desktop\\\\DLRS\\\\src\\\\frames\\\\object_detection\\\\malfunction\\\\malfunction_30.png', 'c:\\\\Users\\\\HeiligesLicht\\\\Desktop\\\\DLRS\\\\src\\\\frames\\\\object_detection\\\\malfunction\\\\malfunction_31.png', 'c:\\\\Users\\\\HeiligesLicht\\\\Desktop\\\\DLRS\\\\src\\\\frames\\\\object_detection\\\\malfunction\\\\malfunction_32.png', 'c:\\\\Users\\\\HeiligesLicht\\\\Desktop\\\\DLRS\\\\src\\\\frames\\\\object_detection\\\\malfunction\\\\malfunction_33.png', 'c:\\\\Users\\\\HeiligesLicht\\\\Desktop\\\\DLRS\\\\src\\\\frames\\\\object_detection\\\\malfunction\\\\malfunction_34.png', 'c:\\\\Users\\\\HeiligesLicht\\\\Desktop\\\\DLRS\\\\src\\\\frames\\\\object_detection\\\\malfunction\\\\malfunction_35.png', 'c:\\\\Users\\\\HeiligesLicht\\\\Desktop\\\\DLRS\\\\src\\\\frames\\\\object_detection\\\\malfunction\\\\malfunction_36.png', 'c:\\\\Users\\\\HeiligesLicht\\\\Desktop\\\\DLRS\\\\src\\\\frames\\\\object_detection\\\\malfunction\\\\malfunction_37.png', 'c:\\\\Users\\\\HeiligesLicht\\\\Desktop\\\\DLRS\\\\src\\\\frames\\\\object_detection\\\\malfunction\\\\malfunction_38.png', 'c:\\\\Users\\\\HeiligesLicht\\\\Desktop\\\\DLRS\\\\src\\\\frames\\\\object_detection\\\\malfunction\\\\malfunction_39.png', 'c:\\\\Users\\\\HeiligesLicht\\\\Desktop\\\\DLRS\\\\src\\\\frames\\\\object_detection\\\\malfunction\\\\malfunction_4.png', 'c:\\\\Users\\\\HeiligesLicht\\\\Desktop\\\\DLRS\\\\src\\\\frames\\\\object_detection\\\\malfunction\\\\malfunction_40.png', 'c:\\\\Users\\\\HeiligesLicht\\\\Desktop\\\\DLRS\\\\src\\\\frames\\\\object_detection\\\\malfunction\\\\malfunction_41.png', 'c:\\\\Users\\\\HeiligesLicht\\\\Desktop\\\\DLRS\\\\src\\\\frames\\\\object_detection\\\\malfunction\\\\malfunction_42.png', 'c:\\\\Users\\\\HeiligesLicht\\\\Desktop\\\\DLRS\\\\src\\\\frames\\\\object_detection\\\\malfunction\\\\malfunction_43.png', 'c:\\\\Users\\\\HeiligesLicht\\\\Desktop\\\\DLRS\\\\src\\\\frames\\\\object_detection\\\\malfunction\\\\malfunction_44.png', 'c:\\\\Users\\\\HeiligesLicht\\\\Desktop\\\\DLRS\\\\src\\\\frames\\\\object_detection\\\\malfunction\\\\malfunction_45.png', 'c:\\\\Users\\\\HeiligesLicht\\\\Desktop\\\\DLRS\\\\src\\\\frames\\\\object_detection\\\\malfunction\\\\malfunction_46.png', 'c:\\\\Users\\\\HeiligesLicht\\\\Desktop\\\\DLRS\\\\src\\\\frames\\\\object_detection\\\\malfunction\\\\malfunction_47.png', 'c:\\\\Users\\\\HeiligesLicht\\\\Desktop\\\\DLRS\\\\src\\\\frames\\\\object_detection\\\\malfunction\\\\malfunction_48.png', 'c:\\\\Users\\\\HeiligesLicht\\\\Desktop\\\\DLRS\\\\src\\\\frames\\\\object_detection\\\\malfunction\\\\malfunction_49.png', 'c:\\\\Users\\\\HeiligesLicht\\\\Desktop\\\\DLRS\\\\src\\\\frames\\\\object_detection\\\\malfunction\\\\malfunction_5.png', 'c:\\\\Users\\\\HeiligesLicht\\\\Desktop\\\\DLRS\\\\src\\\\frames\\\\object_detection\\\\malfunction\\\\malfunction_50.png', 'c:\\\\Users\\\\HeiligesLicht\\\\Desktop\\\\DLRS\\\\src\\\\frames\\\\object_detection\\\\malfunction\\\\malfunction_51.png', 'c:\\\\Users\\\\HeiligesLicht\\\\Desktop\\\\DLRS\\\\src\\\\frames\\\\object_detection\\\\malfunction\\\\malfunction_52.png', 'c:\\\\Users\\\\HeiligesLicht\\\\Desktop\\\\DLRS\\\\src\\\\frames\\\\object_detection\\\\malfunction\\\\malfunction_53.png', 'c:\\\\Users\\\\HeiligesLicht\\\\Desktop\\\\DLRS\\\\src\\\\frames\\\\object_detection\\\\malfunction\\\\malfunction_54.png', 'c:\\\\Users\\\\HeiligesLicht\\\\Desktop\\\\DLRS\\\\src\\\\frames\\\\object_detection\\\\malfunction\\\\malfunction_55.png', 'c:\\\\Users\\\\HeiligesLicht\\\\Desktop\\\\DLRS\\\\src\\\\frames\\\\object_detection\\\\malfunction\\\\malfunction_56.png', 'c:\\\\Users\\\\HeiligesLicht\\\\Desktop\\\\DLRS\\\\src\\\\frames\\\\object_detection\\\\malfunction\\\\malfunction_57.png', 'c:\\\\Users\\\\HeiligesLicht\\\\Desktop\\\\DLRS\\\\src\\\\frames\\\\object_detection\\\\malfunction\\\\malfunction_58.png', 'c:\\\\Users\\\\HeiligesLicht\\\\Desktop\\\\DLRS\\\\src\\\\frames\\\\object_detection\\\\malfunction\\\\malfunction_59.png', 'c:\\\\Users\\\\HeiligesLicht\\\\Desktop\\\\DLRS\\\\src\\\\frames\\\\object_detection\\\\malfunction\\\\malfunction_6.png', 'c:\\\\Users\\\\HeiligesLicht\\\\Desktop\\\\DLRS\\\\src\\\\frames\\\\object_detection\\\\malfunction\\\\malfunction_60.png', 'c:\\\\Users\\\\HeiligesLicht\\\\Desktop\\\\DLRS\\\\src\\\\frames\\\\object_detection\\\\malfunction\\\\malfunction_61.png', 'c:\\\\Users\\\\HeiligesLicht\\\\Desktop\\\\DLRS\\\\src\\\\frames\\\\object_detection\\\\malfunction\\\\malfunction_62.png', 'c:\\\\Users\\\\HeiligesLicht\\\\Desktop\\\\DLRS\\\\src\\\\frames\\\\object_detection\\\\malfunction\\\\malfunction_63.png', 'c:\\\\Users\\\\HeiligesLicht\\\\Desktop\\\\DLRS\\\\src\\\\frames\\\\object_detection\\\\malfunction\\\\malfunction_64.png', 'c:\\\\Users\\\\HeiligesLicht\\\\Desktop\\\\DLRS\\\\src\\\\frames\\\\object_detection\\\\malfunction\\\\malfunction_65.png', 'c:\\\\Users\\\\HeiligesLicht\\\\Desktop\\\\DLRS\\\\src\\\\frames\\\\object_detection\\\\malfunction\\\\malfunction_66.png', 'c:\\\\Users\\\\HeiligesLicht\\\\Desktop\\\\DLRS\\\\src\\\\frames\\\\object_detection\\\\malfunction\\\\malfunction_67.png', 'c:\\\\Users\\\\HeiligesLicht\\\\Desktop\\\\DLRS\\\\src\\\\frames\\\\object_detection\\\\malfunction\\\\malfunction_68.png', 'c:\\\\Users\\\\HeiligesLicht\\\\Desktop\\\\DLRS\\\\src\\\\frames\\\\object_detection\\\\malfunction\\\\malfunction_69.png', 'c:\\\\Users\\\\HeiligesLicht\\\\Desktop\\\\DLRS\\\\src\\\\frames\\\\object_detection\\\\malfunction\\\\malfunction_7.png', 'c:\\\\Users\\\\HeiligesLicht\\\\Desktop\\\\DLRS\\\\src\\\\frames\\\\object_detection\\\\malfunction\\\\malfunction_70.png', 'c:\\\\Users\\\\HeiligesLicht\\\\Desktop\\\\DLRS\\\\src\\\\frames\\\\object_detection\\\\malfunction\\\\malfunction_71.png', 'c:\\\\Users\\\\HeiligesLicht\\\\Desktop\\\\DLRS\\\\src\\\\frames\\\\object_detection\\\\malfunction\\\\malfunction_72.png', 'c:\\\\Users\\\\HeiligesLicht\\\\Desktop\\\\DLRS\\\\src\\\\frames\\\\object_detection\\\\malfunction\\\\malfunction_73.png', 'c:\\\\Users\\\\HeiligesLicht\\\\Desktop\\\\DLRS\\\\src\\\\frames\\\\object_detection\\\\malfunction\\\\malfunction_74.png', 'c:\\\\Users\\\\HeiligesLicht\\\\Desktop\\\\DLRS\\\\src\\\\frames\\\\object_detection\\\\malfunction\\\\malfunction_75.png', 'c:\\\\Users\\\\HeiligesLicht\\\\Desktop\\\\DLRS\\\\src\\\\frames\\\\object_detection\\\\malfunction\\\\malfunction_76.png', 'c:\\\\Users\\\\HeiligesLicht\\\\Desktop\\\\DLRS\\\\src\\\\frames\\\\object_detection\\\\malfunction\\\\malfunction_77.png', 'c:\\\\Users\\\\HeiligesLicht\\\\Desktop\\\\DLRS\\\\src\\\\frames\\\\object_detection\\\\malfunction\\\\malfunction_78.png', 'c:\\\\Users\\\\HeiligesLicht\\\\Desktop\\\\DLRS\\\\src\\\\frames\\\\object_detection\\\\malfunction\\\\malfunction_79.png', 'c:\\\\Users\\\\HeiligesLicht\\\\Desktop\\\\DLRS\\\\src\\\\frames\\\\object_detection\\\\malfunction\\\\malfunction_8.png', 'c:\\\\Users\\\\HeiligesLicht\\\\Desktop\\\\DLRS\\\\src\\\\frames\\\\object_detection\\\\malfunction\\\\malfunction_80.png', 'c:\\\\Users\\\\HeiligesLicht\\\\Desktop\\\\DLRS\\\\src\\\\frames\\\\object_detection\\\\malfunction\\\\malfunction_81.png', 'c:\\\\Users\\\\HeiligesLicht\\\\Desktop\\\\DLRS\\\\src\\\\frames\\\\object_detection\\\\malfunction\\\\malfunction_82.png', 'c:\\\\Users\\\\HeiligesLicht\\\\Desktop\\\\DLRS\\\\src\\\\frames\\\\object_detection\\\\malfunction\\\\malfunction_83.png', 'c:\\\\Users\\\\HeiligesLicht\\\\Desktop\\\\DLRS\\\\src\\\\frames\\\\object_detection\\\\malfunction\\\\malfunction_84.png', 'c:\\\\Users\\\\HeiligesLicht\\\\Desktop\\\\DLRS\\\\src\\\\frames\\\\object_detection\\\\malfunction\\\\malfunction_85.png', 'c:\\\\Users\\\\HeiligesLicht\\\\Desktop\\\\DLRS\\\\src\\\\frames\\\\object_detection\\\\malfunction\\\\malfunction_86.png', 'c:\\\\Users\\\\HeiligesLicht\\\\Desktop\\\\DLRS\\\\src\\\\frames\\\\object_detection\\\\malfunction\\\\malfunction_87.png', 'c:\\\\Users\\\\HeiligesLicht\\\\Desktop\\\\DLRS\\\\src\\\\frames\\\\object_detection\\\\malfunction\\\\malfunction_88.png', 'c:\\\\Users\\\\HeiligesLicht\\\\Desktop\\\\DLRS\\\\src\\\\frames\\\\object_detection\\\\malfunction\\\\malfunction_89.png', 'c:\\\\Users\\\\HeiligesLicht\\\\Desktop\\\\DLRS\\\\src\\\\frames\\\\object_detection\\\\malfunction\\\\malfunction_9.png', 'c:\\\\Users\\\\HeiligesLicht\\\\Desktop\\\\DLRS\\\\src\\\\frames\\\\object_detection\\\\malfunction\\\\malfunction_90.png', 'c:\\\\Users\\\\HeiligesLicht\\\\Desktop\\\\DLRS\\\\src\\\\frames\\\\object_detection\\\\malfunction\\\\malfunction_91.png', 'c:\\\\Users\\\\HeiligesLicht\\\\Desktop\\\\DLRS\\\\src\\\\frames\\\\object_detection\\\\malfunction\\\\malfunction_92.png', 'c:\\\\Users\\\\HeiligesLicht\\\\Desktop\\\\DLRS\\\\src\\\\frames\\\\object_detection\\\\malfunction\\\\malfunction_93.png', 'c:\\\\Users\\\\HeiligesLicht\\\\Desktop\\\\DLRS\\\\src\\\\frames\\\\object_detection\\\\malfunction\\\\malfunction_94.png', 'c:\\\\Users\\\\HeiligesLicht\\\\Desktop\\\\DLRS\\\\src\\\\frames\\\\object_detection\\\\malfunction\\\\malfunction_95.png', 'c:\\\\Users\\\\HeiligesLicht\\\\Desktop\\\\DLRS\\\\src\\\\frames\\\\object_detection\\\\malfunction\\\\malfunction_96.png', 'c:\\\\Users\\\\HeiligesLicht\\\\Desktop\\\\DLRS\\\\src\\\\frames\\\\object_detection\\\\malfunction\\\\malfunction_97.png', 'c:\\\\Users\\\\HeiligesLicht\\\\Desktop\\\\DLRS\\\\src\\\\frames\\\\object_detection\\\\malfunction\\\\malfunction_98.png', 'c:\\\\Users\\\\HeiligesLicht\\\\Desktop\\\\DLRS\\\\src\\\\frames\\\\object_detection\\\\malfunction\\\\malfunction_99.png']\n"
    }
   ],
   "source": [
    "convert_frames_to_video(\"malfunction_frames_train\", [OTHER, \"train\", \"malfunction\"])\n",
    "convert_frames_to_video(\"malfunction_frames_valid\", [OTHER, \"valid\", \"malfunction\"])"
   ]
  },
  {
   "cell_type": "code",
   "execution_count": null,
   "metadata": {},
   "outputs": [],
   "source": []
  }
 ],
 "metadata": {
  "language_info": {
   "codemirror_mode": {
    "name": "ipython",
    "version": 3
   },
   "file_extension": ".py",
   "mimetype": "text/x-python",
   "name": "python",
   "nbconvert_exporter": "python",
   "pygments_lexer": "ipython3",
   "version": "3.7.6-final"
  },
  "orig_nbformat": 2,
  "kernelspec": {
   "name": "python3",
   "display_name": "Python 3"
  }
 },
 "nbformat": 4,
 "nbformat_minor": 2
}